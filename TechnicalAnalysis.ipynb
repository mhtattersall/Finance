{
  "nbformat": 4,
  "nbformat_minor": 0,
  "metadata": {
    "colab": {
      "provenance": [],
      "authorship_tag": "ABX9TyNzYrTLWE1nRm4HD2s0YmAu",
      "include_colab_link": true
    },
    "kernelspec": {
      "name": "python3",
      "display_name": "Python 3"
    },
    "language_info": {
      "name": "python"
    }
  },
  "cells": [
    {
      "cell_type": "markdown",
      "metadata": {
        "id": "view-in-github",
        "colab_type": "text"
      },
      "source": [
        "<a href=\"https://colab.research.google.com/github/mhtattersall/mhtattersall/blob/main/TechnicalAnalysis.ipynb\" target=\"_parent\"><img src=\"https://colab.research.google.com/assets/colab-badge.svg\" alt=\"Open In Colab\"/></a>"
      ]
    },
    {
      "cell_type": "markdown",
      "source": [
        "Python code and comments for MACD, Bollinger Bands, Average True Range, Relative Strength Index, Average Directional Index and Renko.  Based on lectures from Mayak Rassu (Udemy) and approximating to tradingview.com charts."
      ],
      "metadata": {
        "id": "YBts0tTxPxmo"
      }
    },
    {
      "cell_type": "code",
      "source": [
        "# Import necesary libraries\n",
        "import yfinance as yf\n",
        "import pandas as pd\n",
        "import numpy as np"
      ],
      "metadata": {
        "id": "SBYCpEEyP09F"
      },
      "execution_count": 12,
      "outputs": []
    },
    {
      "cell_type": "code",
      "source": [
        "# Download historical data for required stocks\n",
        "tickers = [\"MSFT\",\"AAPL\",\"GOOG\"]\n",
        "ohlcv_data = {} #empty dictionary\n",
        "# looping over tickers and storing OHLCV dataframe in dictionary\n",
        "for ticker in tickers:\n",
        "    temp = yf.download(ticker,period='1mo',interval='5m') #15 or 5 minute intervals over 1 month, may need to adjust 15m to match other published metrics\n",
        "    temp.dropna(how=\"any\",inplace=True) #drop rows wioth Nan values\n",
        "    ohlcv_data[ticker] = temp #populate the dictionary with a df for each stock with its ticker as the key\n",
        "print(ohlcv_data[\"MSFT\"]) #print df for MSFT"
      ],
      "metadata": {
        "colab": {
          "base_uri": "https://localhost:8080/"
        },
        "id": "ynuQw3QxQDit",
        "outputId": "8c3591e1-1eab-4c0a-d383-3ab5d2d449b0"
      },
      "execution_count": 14,
      "outputs": [
        {
          "output_type": "stream",
          "name": "stdout",
          "text": [
            "[*********************100%%**********************]  1 of 1 completed\n",
            "[*********************100%%**********************]  1 of 1 completed\n",
            "[*********************100%%**********************]  1 of 1 completed\n",
            "                                 Open        High         Low       Close  \\\n",
            "Datetime                                                                    \n",
            "2023-10-09 09:30:00-04:00  324.750000  325.199799  323.589996  324.149994   \n",
            "2023-10-09 09:35:00-04:00  324.174988  324.540009  323.179993  324.174988   \n",
            "2023-10-09 09:40:00-04:00  324.183807  325.714996  323.850006  325.570007   \n",
            "2023-10-09 09:45:00-04:00  325.579987  326.859985  325.470001  326.839996   \n",
            "2023-10-09 09:50:00-04:00  326.829987  327.179993  326.190002  326.850006   \n",
            "...                               ...         ...         ...         ...   \n",
            "2023-11-08 09:30:00-05:00  361.679993  363.869995  361.404999  363.869995   \n",
            "2023-11-08 09:35:00-05:00  363.850006  363.869995  362.239990  362.804993   \n",
            "2023-11-08 09:40:00-05:00  362.804993  362.869995  362.040009  362.265015   \n",
            "2023-11-08 09:45:00-05:00  362.339996  363.050415  362.130005  362.755005   \n",
            "2023-11-08 09:50:00-05:00  362.877899  362.877899  362.877899  362.877899   \n",
            "\n",
            "                            Adj Close   Volume  \n",
            "Datetime                                        \n",
            "2023-10-09 09:30:00-04:00  324.149994  1512636  \n",
            "2023-10-09 09:35:00-04:00  324.174988   590075  \n",
            "2023-10-09 09:40:00-04:00  325.570007   435328  \n",
            "2023-10-09 09:45:00-04:00  326.839996   453587  \n",
            "2023-10-09 09:50:00-04:00  326.850006   327676  \n",
            "...                               ...      ...  \n",
            "2023-11-08 09:30:00-05:00  363.869995  2664000  \n",
            "2023-11-08 09:35:00-05:00  362.804993   452742  \n",
            "2023-11-08 09:40:00-05:00  362.265015   395535  \n",
            "2023-11-08 09:45:00-05:00  362.755005   360875  \n",
            "2023-11-08 09:50:00-05:00  362.877899        0  \n",
            "\n",
            "[1717 rows x 6 columns]\n"
          ]
        }
      ]
    },
    {
      "cell_type": "code",
      "source": [
        "def MACD(DF, a=12 ,b=26, c=9):\n",
        "    \"\"\"function to calculate MACD (with exponential moving average)\n",
        "       typical values a(fast moving average) = 12;\n",
        "                      b(slow moving average) =26;\n",
        "                      c(signal line ma window) =9\"\"\"\n",
        "    df = DF.copy() #copy the df with the prices for the stock\n",
        "    df[\"ma_fast\"] = df[\"Adj Close\"].ewm(span=a, min_periods=a).mean() #new column which calculates the fast moving average on the adjusted close price for the stock as a column\n",
        "    df[\"ma_slow\"] = df[\"Adj Close\"].ewm(span=b, min_periods=b).mean() #new column which calculates the slow moving average for the stock\n",
        "    df[\"macd\"] = df[\"ma_fast\"] - df[\"ma_slow\"] #new column which calculates fast - slow averages for the stock\n",
        "    df[\"signal\"] = df[\"macd\"].ewm(span=c, min_periods=c).mean() #new column, which calculates signal moving average for the stock using the macd\n",
        "    return df.loc[:,[\"macd\",\"signal\"]] #return the MACD and signal columns only for each stock\n",
        "\n",
        "for ticker in ohlcv_data:\n",
        "    ohlcv_data[ticker][[\"MACD\",\"SIGNAL\"]] = MACD(ohlcv_data[ticker], a=12 ,b=26, c=9) #apply the function to each stock"
      ],
      "metadata": {
        "id": "K9E2ZAb4PtK-"
      },
      "execution_count": 15,
      "outputs": []
    },
    {
      "cell_type": "code",
      "source": [
        "print(ohlcv_data[\"MSFT\"]) #check these against other published values"
      ],
      "metadata": {
        "colab": {
          "base_uri": "https://localhost:8080/"
        },
        "id": "PJY_GEHnnvKZ",
        "outputId": "2355c1c3-322e-46ef-f3e6-d689bae721c3"
      },
      "execution_count": null,
      "outputs": [
        {
          "output_type": "stream",
          "name": "stdout",
          "text": [
            "                                 Open        High         Low       Close  \\\n",
            "Datetime                                                                    \n",
            "2023-10-04 09:30:00-04:00  314.029999  316.600006  314.000000  316.528503   \n",
            "2023-10-04 09:35:00-04:00  316.559998  317.456207  316.350006  317.130005   \n",
            "2023-10-04 09:40:00-04:00  317.149811  317.269989  316.625000  316.869995   \n",
            "2023-10-04 09:45:00-04:00  316.880005  317.880005  316.730011  317.364990   \n",
            "2023-10-04 09:50:00-04:00  317.339996  317.525909  316.070007  316.575012   \n",
            "...                               ...         ...         ...         ...   \n",
            "2023-11-03 15:35:00-04:00  353.720001  353.880005  353.579987  353.839996   \n",
            "2023-11-03 15:40:00-04:00  353.850006  353.869995  353.510010  353.540009   \n",
            "2023-11-03 15:45:00-04:00  353.539886  353.539886  352.929993  353.029999   \n",
            "2023-11-03 15:50:00-04:00  353.079987  353.269989  352.660004  352.815002   \n",
            "2023-11-03 15:55:00-04:00  352.825012  353.220001  352.609985  352.809998   \n",
            "\n",
            "                            Adj Close  Volume      MACD    SIGNAL  \n",
            "Datetime                                                           \n",
            "2023-10-04 09:30:00-04:00  316.528503  990335       NaN       NaN  \n",
            "2023-10-04 09:35:00-04:00  317.130005  483934       NaN       NaN  \n",
            "2023-10-04 09:40:00-04:00  316.869995  383939       NaN       NaN  \n",
            "2023-10-04 09:45:00-04:00  317.364990  299517       NaN       NaN  \n",
            "2023-10-04 09:50:00-04:00  316.575012  345603       NaN       NaN  \n",
            "...                               ...     ...       ...       ...  \n",
            "2023-11-03 15:35:00-04:00  353.839996  208886  0.207210  0.280173  \n",
            "2023-11-03 15:40:00-04:00  353.540009  348459  0.164506  0.257040  \n",
            "2023-11-03 15:45:00-04:00  353.029999  395164  0.088490  0.223330  \n",
            "2023-11-03 15:50:00-04:00  352.815002  562348  0.010774  0.180819  \n",
            "2023-11-03 15:55:00-04:00  352.809998  987516 -0.050637  0.134528  \n",
            "\n",
            "[1794 rows x 8 columns]\n"
          ]
        }
      ]
    },
    {
      "cell_type": "code",
      "source": [
        "def Boll_Band(DF, n=14): #default value for window of rolling mean is 14 periods\n",
        "    \"function to calculate Bollinger Band\"\n",
        "    df = DF.copy() #ncopy the df with the prices for the stock\n",
        "    df[\"MB\"] = df[\"Adj Close\"].rolling(n).mean() #new column which is the 14 day simple moving average\n",
        "    df[\"UB\"] = df[\"MB\"] + 2*df[\"Adj Close\"].rolling(n).std(ddof=0) #new columns which is the 14 day simple moving average + 2xSD on closing prices #ddof is degrees of freedom, which is set to 0 as it is the SD of a population\n",
        "    df[\"LB\"] = df[\"MB\"] - 2*df[\"Adj Close\"].rolling(n).std(ddof=0) #new column which is the 14 day simple movng average - 2xSD on closing prices\n",
        "    df[\"BB_Width\"] = df[\"UB\"] - df[\"LB\"] #new column which is upper band value minus the lower band\n",
        "    return df[[\"MB\",\"UB\",\"LB\",\"BB_Width\"]] #return these 4 columns\n",
        "\n",
        "for ticker in ohlcv_data:\n",
        "    ohlcv_data[ticker][[\"MB\",\"UB\",\"LB\",\"BB_Width\"]] = Boll_Band(ohlcv_data[ticker]) #apply the function to each stock and for each column"
      ],
      "metadata": {
        "id": "fxX3R77Lv29N"
      },
      "execution_count": 16,
      "outputs": []
    },
    {
      "cell_type": "code",
      "source": [
        "print(ohlcv_data[\"MSFT\"])"
      ],
      "metadata": {
        "colab": {
          "base_uri": "https://localhost:8080/"
        },
        "id": "0PmHz_3gxd2f",
        "outputId": "46bf0125-2e91-48cb-a60f-768cf3775810"
      },
      "execution_count": 17,
      "outputs": [
        {
          "output_type": "stream",
          "name": "stdout",
          "text": [
            "                                 Open        High         Low       Close  \\\n",
            "Datetime                                                                    \n",
            "2023-10-09 09:30:00-04:00  324.750000  325.199799  323.589996  324.149994   \n",
            "2023-10-09 09:35:00-04:00  324.174988  324.540009  323.179993  324.174988   \n",
            "2023-10-09 09:40:00-04:00  324.183807  325.714996  323.850006  325.570007   \n",
            "2023-10-09 09:45:00-04:00  325.579987  326.859985  325.470001  326.839996   \n",
            "2023-10-09 09:50:00-04:00  326.829987  327.179993  326.190002  326.850006   \n",
            "...                               ...         ...         ...         ...   \n",
            "2023-11-08 09:30:00-05:00  361.679993  363.869995  361.404999  363.869995   \n",
            "2023-11-08 09:35:00-05:00  363.850006  363.869995  362.239990  362.804993   \n",
            "2023-11-08 09:40:00-05:00  362.804993  362.869995  362.040009  362.265015   \n",
            "2023-11-08 09:45:00-05:00  362.339996  363.050415  362.130005  362.755005   \n",
            "2023-11-08 09:50:00-05:00  362.877899  362.877899  362.877899  362.877899   \n",
            "\n",
            "                            Adj Close   Volume      MACD    SIGNAL  \\\n",
            "Datetime                                                             \n",
            "2023-10-09 09:30:00-04:00  324.149994  1512636       NaN       NaN   \n",
            "2023-10-09 09:35:00-04:00  324.174988   590075       NaN       NaN   \n",
            "2023-10-09 09:40:00-04:00  325.570007   435328       NaN       NaN   \n",
            "2023-10-09 09:45:00-04:00  326.839996   453587       NaN       NaN   \n",
            "2023-10-09 09:50:00-04:00  326.850006   327676       NaN       NaN   \n",
            "...                               ...      ...       ...       ...   \n",
            "2023-11-08 09:30:00-05:00  363.869995  2664000 -0.002539 -0.102175   \n",
            "2023-11-08 09:35:00-05:00  362.804993   452742  0.093547 -0.063030   \n",
            "2023-11-08 09:40:00-05:00  362.265015   395535  0.124687 -0.025487   \n",
            "2023-11-08 09:45:00-05:00  362.755005   360875  0.186751  0.016961   \n",
            "2023-11-08 09:50:00-05:00  362.877899        0  0.243052  0.062179   \n",
            "\n",
            "                                   MB          UB          LB  BB_Width  \n",
            "Datetime                                                                 \n",
            "2023-10-09 09:30:00-04:00         NaN         NaN         NaN       NaN  \n",
            "2023-10-09 09:35:00-04:00         NaN         NaN         NaN       NaN  \n",
            "2023-10-09 09:40:00-04:00         NaN         NaN         NaN       NaN  \n",
            "2023-10-09 09:45:00-04:00         NaN         NaN         NaN       NaN  \n",
            "2023-10-09 09:50:00-04:00         NaN         NaN         NaN       NaN  \n",
            "...                               ...         ...         ...       ...  \n",
            "2023-11-08 09:30:00-05:00  361.400011  362.986137  359.813886  3.172252  \n",
            "2023-11-08 09:35:00-05:00  361.495010  363.239167  359.750854  3.488313  \n",
            "2023-11-08 09:40:00-05:00  361.563941  363.347648  359.780234  3.567414  \n",
            "2023-11-08 09:45:00-05:00  361.693584  363.539790  359.847378  3.692412  \n",
            "2023-11-08 09:50:00-05:00  361.819148  363.730209  359.908088  3.822122  \n",
            "\n",
            "[1717 rows x 12 columns]\n"
          ]
        }
      ]
    },
    {
      "cell_type": "code",
      "source": [
        "def RSI(DF, n=14): #default value for window of rolling mean is 14 periods\n",
        "    \"function to calculate RSI\"\n",
        "    df = DF.copy() #copy the df with the prices for the stock\n",
        "    df[\"change\"] = df[\"Adj Close\"] - df[\"Adj Close\"].shift(1) #new cocalculate the change in price vs the previous period\n",
        "    df[\"gain\"] = np.where(df[\"change\"]>=0, df[\"change\"], 0) #store any gain, but store any loss as 0\n",
        "    df[\"loss\"] = np.where(df[\"change\"]<0, -1*df[\"change\"], 0) #store any loss *-1 (as don't want negative number), but store any gain as 0\n",
        "    df[\"avgGain\"] = df[\"gain\"].ewm(alpha=1/n, min_periods=n).mean() #apply exponential rolliing average formula to gains and losses, specify the smoothing factor directly (alpha is 1/length(n))\n",
        "    df[\"avgLoss\"] = df[\"loss\"].ewm(alpha=1/n, min_periods=n).mean()\n",
        "    df[\"rs\"] = df[\"avgGain\"]/df[\"avgLoss\"]\n",
        "    df[\"rsi\"] = 100 - (100/ (1 + df[\"rs\"]))\n",
        "    return df[\"rsi\"]\n",
        "\n",
        "for ticker in ohlcv_data:\n",
        "    ohlcv_data[ticker][\"RSI\"] = RSI(ohlcv_data[ticker])"
      ],
      "metadata": {
        "id": "yQ45L6ZqGZT7"
      },
      "execution_count": 18,
      "outputs": []
    },
    {
      "cell_type": "code",
      "source": [
        "print(ohlcv_data[\"MSFT\"])"
      ],
      "metadata": {
        "colab": {
          "base_uri": "https://localhost:8080/"
        },
        "id": "A8QFm8koGZQ7",
        "outputId": "99ad694f-eefa-415e-ba75-13a3d64188d6"
      },
      "execution_count": 19,
      "outputs": [
        {
          "output_type": "stream",
          "name": "stdout",
          "text": [
            "                                 Open        High         Low       Close  \\\n",
            "Datetime                                                                    \n",
            "2023-10-09 09:30:00-04:00  324.750000  325.199799  323.589996  324.149994   \n",
            "2023-10-09 09:35:00-04:00  324.174988  324.540009  323.179993  324.174988   \n",
            "2023-10-09 09:40:00-04:00  324.183807  325.714996  323.850006  325.570007   \n",
            "2023-10-09 09:45:00-04:00  325.579987  326.859985  325.470001  326.839996   \n",
            "2023-10-09 09:50:00-04:00  326.829987  327.179993  326.190002  326.850006   \n",
            "...                               ...         ...         ...         ...   \n",
            "2023-11-08 09:30:00-05:00  361.679993  363.869995  361.404999  363.869995   \n",
            "2023-11-08 09:35:00-05:00  363.850006  363.869995  362.239990  362.804993   \n",
            "2023-11-08 09:40:00-05:00  362.804993  362.869995  362.040009  362.265015   \n",
            "2023-11-08 09:45:00-05:00  362.339996  363.050415  362.130005  362.755005   \n",
            "2023-11-08 09:50:00-05:00  362.877899  362.877899  362.877899  362.877899   \n",
            "\n",
            "                            Adj Close   Volume      MACD    SIGNAL  \\\n",
            "Datetime                                                             \n",
            "2023-10-09 09:30:00-04:00  324.149994  1512636       NaN       NaN   \n",
            "2023-10-09 09:35:00-04:00  324.174988   590075       NaN       NaN   \n",
            "2023-10-09 09:40:00-04:00  325.570007   435328       NaN       NaN   \n",
            "2023-10-09 09:45:00-04:00  326.839996   453587       NaN       NaN   \n",
            "2023-10-09 09:50:00-04:00  326.850006   327676       NaN       NaN   \n",
            "...                               ...      ...       ...       ...   \n",
            "2023-11-08 09:30:00-05:00  363.869995  2664000 -0.002539 -0.102175   \n",
            "2023-11-08 09:35:00-05:00  362.804993   452742  0.093547 -0.063030   \n",
            "2023-11-08 09:40:00-05:00  362.265015   395535  0.124687 -0.025487   \n",
            "2023-11-08 09:45:00-05:00  362.755005   360875  0.186751  0.016961   \n",
            "2023-11-08 09:50:00-05:00  362.877899        0  0.243052  0.062179   \n",
            "\n",
            "                                   MB          UB          LB  BB_Width  \\\n",
            "Datetime                                                                  \n",
            "2023-10-09 09:30:00-04:00         NaN         NaN         NaN       NaN   \n",
            "2023-10-09 09:35:00-04:00         NaN         NaN         NaN       NaN   \n",
            "2023-10-09 09:40:00-04:00         NaN         NaN         NaN       NaN   \n",
            "2023-10-09 09:45:00-04:00         NaN         NaN         NaN       NaN   \n",
            "2023-10-09 09:50:00-04:00         NaN         NaN         NaN       NaN   \n",
            "...                               ...         ...         ...       ...   \n",
            "2023-11-08 09:30:00-05:00  361.400011  362.986137  359.813886  3.172252   \n",
            "2023-11-08 09:35:00-05:00  361.495010  363.239167  359.750854  3.488313   \n",
            "2023-11-08 09:40:00-05:00  361.563941  363.347648  359.780234  3.567414   \n",
            "2023-11-08 09:45:00-05:00  361.693584  363.539790  359.847378  3.692412   \n",
            "2023-11-08 09:50:00-05:00  361.819148  363.730209  359.908088  3.822122   \n",
            "\n",
            "                                 RSI  \n",
            "Datetime                              \n",
            "2023-10-09 09:30:00-04:00        NaN  \n",
            "2023-10-09 09:35:00-04:00        NaN  \n",
            "2023-10-09 09:40:00-04:00        NaN  \n",
            "2023-10-09 09:45:00-04:00        NaN  \n",
            "2023-10-09 09:50:00-04:00        NaN  \n",
            "...                              ...  \n",
            "2023-11-08 09:30:00-05:00  68.384439  \n",
            "2023-11-08 09:35:00-05:00  58.309773  \n",
            "2023-11-08 09:40:00-05:00  53.968438  \n",
            "2023-11-08 09:45:00-05:00  57.090432  \n",
            "2023-11-08 09:50:00-05:00  57.862358  \n",
            "\n",
            "[1717 rows x 13 columns]\n"
          ]
        }
      ]
    },
    {
      "cell_type": "code",
      "source": [
        "def ATR(DF, n=14): #default value for window of rolling mean is 14 periods\n",
        "    \"function to calculate True Range and Average True Range\"\n",
        "    df = DF.copy() #copy the df with the prices for the stock\n",
        "    df[\"H-L\"] = df[\"High\"] - df[\"Low\"]\n",
        "    df[\"H-PC\"] = abs(df[\"High\"] - df[\"Adj Close\"].shift(1)) #shift is a pandas function which allows you to compare with previous row\n",
        "    df[\"L-PC\"] = abs(df[\"Low\"] - df[\"Adj Close\"].shift(1))\n",
        "    df[\"TR\"] = df[[\"H-L\",\"H-PC\",\"L-PC\"]].max(axis=1, skipna=False) #True Range is max of 3 columns (axis=1)\n",
        "    df[\"ATR\"] = df[\"TR\"].ewm(com=n, min_periods=n).mean() #Average True Range is the exponential moving average of the TR\n",
        "    return df[\"ATR\"]\n",
        "\n",
        "for ticker in ohlcv_data:\n",
        "    ohlcv_data[ticker][\"ATR\"] = ATR(ohlcv_data[ticker]) #apply the function to each stock"
      ],
      "metadata": {
        "id": "4vcuauDRpaIp"
      },
      "execution_count": 20,
      "outputs": []
    },
    {
      "cell_type": "code",
      "source": [
        "print(ohlcv_data[\"MSFT\"])"
      ],
      "metadata": {
        "colab": {
          "base_uri": "https://localhost:8080/"
        },
        "id": "lt_ImDkjpZ2N",
        "outputId": "da6e03a5-7557-447b-930e-de1d64ac2a32"
      },
      "execution_count": 21,
      "outputs": [
        {
          "output_type": "stream",
          "name": "stdout",
          "text": [
            "                                 Open        High         Low       Close  \\\n",
            "Datetime                                                                    \n",
            "2023-10-09 09:30:00-04:00  324.750000  325.199799  323.589996  324.149994   \n",
            "2023-10-09 09:35:00-04:00  324.174988  324.540009  323.179993  324.174988   \n",
            "2023-10-09 09:40:00-04:00  324.183807  325.714996  323.850006  325.570007   \n",
            "2023-10-09 09:45:00-04:00  325.579987  326.859985  325.470001  326.839996   \n",
            "2023-10-09 09:50:00-04:00  326.829987  327.179993  326.190002  326.850006   \n",
            "...                               ...         ...         ...         ...   \n",
            "2023-11-08 09:30:00-05:00  361.679993  363.869995  361.404999  363.869995   \n",
            "2023-11-08 09:35:00-05:00  363.850006  363.869995  362.239990  362.804993   \n",
            "2023-11-08 09:40:00-05:00  362.804993  362.869995  362.040009  362.265015   \n",
            "2023-11-08 09:45:00-05:00  362.339996  363.050415  362.130005  362.755005   \n",
            "2023-11-08 09:50:00-05:00  362.877899  362.877899  362.877899  362.877899   \n",
            "\n",
            "                            Adj Close   Volume      MACD    SIGNAL  \\\n",
            "Datetime                                                             \n",
            "2023-10-09 09:30:00-04:00  324.149994  1512636       NaN       NaN   \n",
            "2023-10-09 09:35:00-04:00  324.174988   590075       NaN       NaN   \n",
            "2023-10-09 09:40:00-04:00  325.570007   435328       NaN       NaN   \n",
            "2023-10-09 09:45:00-04:00  326.839996   453587       NaN       NaN   \n",
            "2023-10-09 09:50:00-04:00  326.850006   327676       NaN       NaN   \n",
            "...                               ...      ...       ...       ...   \n",
            "2023-11-08 09:30:00-05:00  363.869995  2664000 -0.002539 -0.102175   \n",
            "2023-11-08 09:35:00-05:00  362.804993   452742  0.093547 -0.063030   \n",
            "2023-11-08 09:40:00-05:00  362.265015   395535  0.124687 -0.025487   \n",
            "2023-11-08 09:45:00-05:00  362.755005   360875  0.186751  0.016961   \n",
            "2023-11-08 09:50:00-05:00  362.877899        0  0.243052  0.062179   \n",
            "\n",
            "                                   MB          UB          LB  BB_Width  \\\n",
            "Datetime                                                                  \n",
            "2023-10-09 09:30:00-04:00         NaN         NaN         NaN       NaN   \n",
            "2023-10-09 09:35:00-04:00         NaN         NaN         NaN       NaN   \n",
            "2023-10-09 09:40:00-04:00         NaN         NaN         NaN       NaN   \n",
            "2023-10-09 09:45:00-04:00         NaN         NaN         NaN       NaN   \n",
            "2023-10-09 09:50:00-04:00         NaN         NaN         NaN       NaN   \n",
            "...                               ...         ...         ...       ...   \n",
            "2023-11-08 09:30:00-05:00  361.400011  362.986137  359.813886  3.172252   \n",
            "2023-11-08 09:35:00-05:00  361.495010  363.239167  359.750854  3.488313   \n",
            "2023-11-08 09:40:00-05:00  361.563941  363.347648  359.780234  3.567414   \n",
            "2023-11-08 09:45:00-05:00  361.693584  363.539790  359.847378  3.692412   \n",
            "2023-11-08 09:50:00-05:00  361.819148  363.730209  359.908088  3.822122   \n",
            "\n",
            "                                 RSI       ATR  \n",
            "Datetime                                        \n",
            "2023-10-09 09:30:00-04:00        NaN       NaN  \n",
            "2023-10-09 09:35:00-04:00        NaN       NaN  \n",
            "2023-10-09 09:40:00-04:00        NaN       NaN  \n",
            "2023-10-09 09:45:00-04:00        NaN       NaN  \n",
            "2023-10-09 09:50:00-04:00        NaN       NaN  \n",
            "...                              ...       ...  \n",
            "2023-11-08 09:30:00-05:00  68.384439  0.658522  \n",
            "2023-11-08 09:35:00-05:00  58.309773  0.723287  \n",
            "2023-11-08 09:40:00-05:00  53.968438  0.730401  \n",
            "2023-11-08 09:45:00-05:00  57.090432  0.743068  \n",
            "2023-11-08 09:50:00-05:00  57.862358  0.701723  \n",
            "\n",
            "[1717 rows x 14 columns]\n"
          ]
        }
      ]
    },
    {
      "cell_type": "code",
      "source": [
        "def ADX(DF, n=14): #default value for window of rolling mean is 14 periods\n",
        "    \"function to calculate ADX\"\n",
        "    df = DF.copy() #copy the df with the prices for the stock\n",
        "    df[\"ATR\"] = ATR(DF, n) #new column with ATR musing ethod as previously defined\n",
        "    df[\"upmove\"] = df[\"High\"] - df[\"High\"].shift(1) #new column which calculates current high minus previous high\n",
        "    df[\"downmove\"] = df[\"Low\"].shift(1) - df[\"Low\"] #new column which calculates current low minues previous low\n",
        "    df[\"+dm\"] = np.where((df[\"upmove\"]>df[\"downmove\"]) & (df[\"upmove\"] >0), df[\"upmove\"], 0) #new column with conditional value\n",
        "    df[\"-dm\"] = np.where((df[\"downmove\"]>df[\"upmove\"]) & (df[\"downmove\"] >0), df[\"downmove\"], 0) #new column with conditional value\n",
        "    df[\"+di\"] = 100 * (df[\"+dm\"]/df[\"ATR\"]).ewm(alpha=1/n, min_periods=n).mean() #new column with exponential moving average of +dm divided by ATR\n",
        "    df[\"-di\"] = 100 * (df[\"-dm\"]/df[\"ATR\"]).ewm(alpha=1/n, min_periods=n).mean() #new column with exponential moving average of -dm divided by ATR\n",
        "    df[\"ADX\"] = 100* abs((df[\"+di\"] - df[\"-di\"])/(df[\"+di\"] + df[\"-di\"])).ewm(alpha=1/n, min_periods=n).mean() #ADX is 100x the exponential moving average of the absolute value of (+di - -di)/(+di + -di)\n",
        "    return df[\"ADX\"] #return the ADX column only\n",
        "\n",
        "for ticker in ohlcv_data:\n",
        "    ohlcv_data[ticker][\"ADX\"] = ADX(ohlcv_data[ticker],20) #apply the function to each stock #can adjust from the default of 14 periods of required"
      ],
      "metadata": {
        "id": "VyVKAIfMGZA2"
      },
      "execution_count": 22,
      "outputs": []
    },
    {
      "cell_type": "code",
      "source": [
        "print(ohlcv_data[\"MSFT\"])"
      ],
      "metadata": {
        "colab": {
          "base_uri": "https://localhost:8080/"
        },
        "id": "L2H6B3wNDyPn",
        "outputId": "73709981-fc8d-4827-c475-961988759a88"
      },
      "execution_count": null,
      "outputs": [
        {
          "output_type": "stream",
          "name": "stdout",
          "text": [
            "                                 Open        High         Low       Close  \\\n",
            "Datetime                                                                    \n",
            "2023-10-04 09:30:00-04:00  314.029999  316.600006  314.000000  316.528503   \n",
            "2023-10-04 09:35:00-04:00  316.559998  317.456207  316.350006  317.130005   \n",
            "2023-10-04 09:40:00-04:00  317.149811  317.269989  316.625000  316.869995   \n",
            "2023-10-04 09:45:00-04:00  316.880005  317.880005  316.730011  317.364990   \n",
            "2023-10-04 09:50:00-04:00  317.339996  317.525909  316.070007  316.575012   \n",
            "...                               ...         ...         ...         ...   \n",
            "2023-11-03 15:35:00-04:00  353.720001  353.880005  353.579987  353.839996   \n",
            "2023-11-03 15:40:00-04:00  353.850006  353.869995  353.510010  353.540009   \n",
            "2023-11-03 15:45:00-04:00  353.539886  353.539886  352.929993  353.029999   \n",
            "2023-11-03 15:50:00-04:00  353.079987  353.269989  352.660004  352.815002   \n",
            "2023-11-03 15:55:00-04:00  352.825012  353.220001  352.609985  352.809998   \n",
            "\n",
            "                            Adj Close  Volume      MACD    SIGNAL          MB  \\\n",
            "Datetime                                                                        \n",
            "2023-10-04 09:30:00-04:00  316.528503  990335       NaN       NaN         NaN   \n",
            "2023-10-04 09:35:00-04:00  317.130005  483934       NaN       NaN         NaN   \n",
            "2023-10-04 09:40:00-04:00  316.869995  383939       NaN       NaN         NaN   \n",
            "2023-10-04 09:45:00-04:00  317.364990  299517       NaN       NaN         NaN   \n",
            "2023-10-04 09:50:00-04:00  316.575012  345603       NaN       NaN         NaN   \n",
            "...                               ...     ...       ...       ...         ...   \n",
            "2023-11-03 15:35:00-04:00  353.839996  208886  0.207210  0.280173  353.856426   \n",
            "2023-11-03 15:40:00-04:00  353.540009  348459  0.164506  0.257040  353.855713   \n",
            "2023-11-03 15:45:00-04:00  353.029999  395164  0.088490  0.223330  353.813570   \n",
            "2023-11-03 15:50:00-04:00  352.815002  562348  0.010774  0.180819  353.750355   \n",
            "2023-11-03 15:55:00-04:00  352.809998  987516 -0.050637  0.134528  353.675356   \n",
            "\n",
            "                                   UB          LB  BB_Width        RSI  \\\n",
            "Datetime                                                                 \n",
            "2023-10-04 09:30:00-04:00         NaN         NaN       NaN        NaN   \n",
            "2023-10-04 09:35:00-04:00         NaN         NaN       NaN        NaN   \n",
            "2023-10-04 09:40:00-04:00         NaN         NaN       NaN        NaN   \n",
            "2023-10-04 09:45:00-04:00         NaN         NaN       NaN        NaN   \n",
            "2023-10-04 09:50:00-04:00         NaN         NaN       NaN        NaN   \n",
            "...                               ...         ...       ...        ...   \n",
            "2023-11-03 15:35:00-04:00  354.225022  353.487829  0.737193  53.548975   \n",
            "2023-11-03 15:40:00-04:00  354.226708  353.484718  0.741990  48.083040   \n",
            "2023-11-03 15:45:00-04:00  354.369861  353.257280  1.112581  40.511985   \n",
            "2023-11-03 15:50:00-04:00  354.508436  352.992274  1.516162  37.809271   \n",
            "2023-11-03 15:55:00-04:00  354.570567  352.780145  1.790422  37.746141   \n",
            "\n",
            "                                ATR        ADX  \n",
            "Datetime                                        \n",
            "2023-10-04 09:30:00-04:00       NaN        NaN  \n",
            "2023-10-04 09:35:00-04:00       NaN        NaN  \n",
            "2023-10-04 09:40:00-04:00       NaN        NaN  \n",
            "2023-10-04 09:45:00-04:00       NaN        NaN  \n",
            "2023-10-04 09:50:00-04:00       NaN        NaN  \n",
            "...                             ...        ...  \n",
            "2023-11-03 15:35:00-04:00  0.409966  25.985240  \n",
            "2023-11-03 15:40:00-04:00  0.406634  24.823298  \n",
            "2023-11-03 15:45:00-04:00  0.420192  24.377376  \n",
            "2023-11-03 15:50:00-04:00  0.432845  24.291440  \n",
            "2023-11-03 15:55:00-04:00  0.444657  24.268429  \n",
            "\n",
            "[1794 rows x 15 columns]\n"
          ]
        }
      ]
    },
    {
      "cell_type": "code",
      "source": [
        "# Import necesary libraries\n",
        "import yfinance as yf\n",
        "from stocktrends import Renko #use stocktrends library"
      ],
      "metadata": {
        "id": "uGgG38OpZMR6"
      },
      "execution_count": 23,
      "outputs": []
    },
    {
      "cell_type": "code",
      "source": [
        "# Download historical data for required stocks\n",
        "tickers = [\"MSFT\",\"AAPL\",\"GOOG\"]\n",
        "ohlcv_data = {} #empty dictionaries\n",
        "hour_data = {}\n",
        "renko_data = {}\n",
        "# looping over tickers and storing OHLCV dataframe in dictionary\n",
        "for ticker in tickers:\n",
        "    temp = yf.download(ticker,period='1mo',interval='5m') #5 minute data over 1 month\n",
        "    temp.dropna(how=\"any\",inplace=True)\n",
        "    ohlcv_data[ticker] = temp\n",
        "    temp = yf.download(ticker,period='1y',interval='1h') #hourly data over 1 year\n",
        "    temp.dropna(how=\"any\",inplace=True)\n",
        "    hour_data[ticker] = temp\n",
        "print(ohlcv_data[\"MSFT\"]) #print df for MSFT"
      ],
      "metadata": {
        "colab": {
          "base_uri": "https://localhost:8080/"
        },
        "id": "kZ5LM1ksZWT4",
        "outputId": "fa93b0fe-f5d3-4621-c975-3d5559917edd"
      },
      "execution_count": 28,
      "outputs": [
        {
          "output_type": "stream",
          "name": "stdout",
          "text": [
            "[*********************100%%**********************]  1 of 1 completed\n",
            "[*********************100%%**********************]  1 of 1 completed\n",
            "[*********************100%%**********************]  1 of 1 completed\n",
            "[*********************100%%**********************]  1 of 1 completed\n",
            "[*********************100%%**********************]  1 of 1 completed\n",
            "[*********************100%%**********************]  1 of 1 completed\n",
            "                                 Open        High         Low       Close  \\\n",
            "Datetime                                                                    \n",
            "2023-10-09 09:30:00-04:00  324.750000  325.199799  323.589996  324.149994   \n",
            "2023-10-09 09:35:00-04:00  324.174988  324.540009  323.179993  324.174988   \n",
            "2023-10-09 09:40:00-04:00  324.183807  325.714996  323.850006  325.570007   \n",
            "2023-10-09 09:45:00-04:00  325.579987  326.859985  325.470001  326.839996   \n",
            "2023-10-09 09:50:00-04:00  326.829987  327.179993  326.190002  326.850006   \n",
            "...                               ...         ...         ...         ...   \n",
            "2023-11-08 09:30:00-05:00  361.679993  363.869995  361.404999  363.869995   \n",
            "2023-11-08 09:35:00-05:00  363.850006  363.869995  362.239990  362.804993   \n",
            "2023-11-08 09:40:00-05:00  362.804993  362.869995  362.040009  362.265015   \n",
            "2023-11-08 09:45:00-05:00  362.339996  363.050415  362.130005  362.755005   \n",
            "2023-11-08 09:50:00-05:00  362.815002  362.920013  362.300110  362.645996   \n",
            "\n",
            "                            Adj Close   Volume  \n",
            "Datetime                                        \n",
            "2023-10-09 09:30:00-04:00  324.149994  1512636  \n",
            "2023-10-09 09:35:00-04:00  324.174988   590075  \n",
            "2023-10-09 09:40:00-04:00  325.570007   435328  \n",
            "2023-10-09 09:45:00-04:00  326.839996   453587  \n",
            "2023-10-09 09:50:00-04:00  326.850006   327676  \n",
            "...                               ...      ...  \n",
            "2023-11-08 09:30:00-05:00  363.869995  2664000  \n",
            "2023-11-08 09:35:00-05:00  362.804993   503381  \n",
            "2023-11-08 09:40:00-05:00  362.265015   395535  \n",
            "2023-11-08 09:45:00-05:00  362.755005   360875  \n",
            "2023-11-08 09:50:00-05:00  362.645996   150372  \n",
            "\n",
            "[1717 rows x 6 columns]\n"
          ]
        }
      ]
    },
    {
      "cell_type": "code",
      "source": [
        "def renko_DF(DF, hourly_df):\n",
        "    \"function to convert ohlc data into renko bricks\"\n",
        "    df = DF.copy() #copy the df with the prices for the stock\n",
        "    #make the columns fit the required format for the renko function i.e. date, open, high, low, close\n",
        "    df.reset_index(inplace=True) #date currently the index, so reset index\n",
        "    df.drop(\"Close\",axis=1,inplace=True) #drop the close price as using ajdusted close\n",
        "    df.columns = [\"date\",\"open\",\"high\",\"low\",\"close\",\"volume\"] #rename column headers to those required by stock trend library\n",
        "    df2 = Renko(df) #create renko object of the renko class - see stocktrends library for attributes etc\n",
        "    df2.brick_size = 3*round(ATR(hourly_df,120).iloc[-1],0) #3 x hourly ATR as brick size, select last value, rounded up\n",
        "    renko_df = df2.get_ohlc_data() #apply the class function from the stocktrends library for each stock\n",
        "    return renko_df #return the renko_df\n",
        "\n",
        "for ticker in ohlcv_data:\n",
        "    renko_data[ticker] = renko_DF(ohlcv_data[ticker],hour_data[ticker]) #apply the function to each stock"
      ],
      "metadata": {
        "id": "wwFz0NfzZWC0"
      },
      "execution_count": 29,
      "outputs": []
    },
    {
      "cell_type": "code",
      "source": [
        "print(renko_data[\"MSFT\"])"
      ],
      "metadata": {
        "colab": {
          "base_uri": "https://localhost:8080/"
        },
        "id": "mI_DqWW6bNNO",
        "outputId": "22cf6f49-f589-4533-c94f-a920f1b2f823"
      },
      "execution_count": 31,
      "outputs": [
        {
          "output_type": "stream",
          "name": "stdout",
          "text": [
            "                       date   open   high    low  close  uptrend\n",
            "0 2023-10-09 09:30:00-04:00  318.0  324.0  318.0  324.0     True\n",
            "1 2023-10-09 13:55:00-04:00  324.0  330.0  324.0  330.0     True\n",
            "2 2023-10-19 13:05:00-04:00  330.0  336.0  330.0  336.0     True\n",
            "3 2023-10-25 09:30:00-04:00  336.0  342.0  336.0  342.0     True\n",
            "4 2023-10-26 11:40:00-04:00  336.0  336.0  330.0  330.0    False\n",
            "5 2023-11-01 09:35:00-04:00  336.0  342.0  336.0  342.0     True\n",
            "6 2023-11-02 10:50:00-04:00  342.0  348.0  342.0  348.0     True\n",
            "7 2023-11-03 14:10:00-04:00  348.0  354.0  348.0  354.0     True\n",
            "8 2023-11-07 10:25:00-05:00  354.0  360.0  354.0  360.0     True\n"
          ]
        }
      ]
    },
    {
      "cell_type": "markdown",
      "source": [
        "Link to stocktrend github page: https://github.com/ChillarAnand/stocktrends\n",
        "TA-Lib website: http://ta-lib.org/\n",
        "TA-Lib Python Wrapper Github Page: https://mrjbq7.github.io/ta-lib/\n",
        "TA-Lib documentation of pattern recognition: https://mrjbq7.github.io/ta-lib/func_groups/pattern_recognition.html\n",
        "Discussion on installation problems: https://github.com/mrjbq7/ta-lib/issues/127\n",
        "Command to install TA-lib for python 3.5 and 3.6: pip install -i https://pypi.anaconda.org/masdeseiscaracteres/simple ta-lib\n",
        "Good website on chart patterns: http://thepatternsite.com"
      ],
      "metadata": {
        "id": "jsGpfnKEkm-i"
      }
    }
  ]
}