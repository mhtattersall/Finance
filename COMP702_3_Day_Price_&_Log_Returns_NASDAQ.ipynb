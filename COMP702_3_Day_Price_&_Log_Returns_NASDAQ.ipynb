{
  "nbformat": 4,
  "nbformat_minor": 0,
  "metadata": {
    "colab": {
      "provenance": [],
      "authorship_tag": "ABX9TyPs3Xkbo8C5nA1nhQTYyM0+",
      "include_colab_link": true
    },
    "kernelspec": {
      "name": "python3",
      "display_name": "Python 3"
    },
    "language_info": {
      "name": "python"
    }
  },
  "cells": [
    {
      "cell_type": "markdown",
      "metadata": {
        "id": "view-in-github",
        "colab_type": "text"
      },
      "source": [
        "<a href=\"https://colab.research.google.com/github/mhtattersall/mhtattersall/blob/main/COMP702_3_Day_Price_%26_Log_Returns_NASDAQ.ipynb\" target=\"_parent\"><img src=\"https://colab.research.google.com/assets/colab-badge.svg\" alt=\"Open In Colab\"/></a>"
      ]
    },
    {
      "cell_type": "code",
      "metadata": {
        "id": "bCVGED4BMNRZ"
      },
      "source": [
        "import pandas as pd\n",
        "import numpy as np\n",
        "import os\n",
        "import matplotlib.pyplot as plt\n",
        "import time\n",
        "import io"
      ],
      "execution_count": null,
      "outputs": []
    },
    {
      "cell_type": "code",
      "metadata": {
        "id": "BfILhZPi_S2-"
      },
      "source": [
        "from sklearn.preprocessing import MinMaxScaler\n",
        "from sklearn.metrics import mean_squared_error, mean_absolute_error\n",
        "import keras\n",
        "from keras.models import Sequential\n",
        "from keras.layers import LSTM, Dense, Dropout\n",
        "from keras import optimizers"
      ],
      "execution_count": null,
      "outputs": []
    },
    {
      "cell_type": "markdown",
      "metadata": {
        "id": "9Q1R-bj6QwOw"
      },
      "source": [
        "Import stock data to a Pandas dataframe"
      ]
    },
    {
      "cell_type": "code",
      "metadata": {
        "colab": {
          "resources": {
            "http://localhost:8080/nbextensions/google.colab/files.js": {
              "data": "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",
              "ok": true,
              "headers": [
                [
                  "content-type",
                  "application/javascript"
                ]
              ],
              "status": 200,
              "status_text": ""
            }
          },
          "base_uri": "https://localhost:8080/",
          "height": 74
        },
        "id": "MalK0FxuTz8P",
        "outputId": "08f4235a-9b93-4cb2-a48f-d909c12949e3"
      },
      "source": [
        "from google.colab import files\n",
        "uploaded = files.upload()\n",
        "df = pd.read_csv(io.BytesIO(uploaded['NASDAQ2008.csv']))"
      ],
      "execution_count": null,
      "outputs": [
        {
          "output_type": "display_data",
          "data": {
            "text/html": [
              "\n",
              "     <input type=\"file\" id=\"files-e187b0f2-5003-4b28-ac8e-e72a32e913f9\" name=\"files[]\" multiple disabled\n",
              "        style=\"border:none\" />\n",
              "     <output id=\"result-e187b0f2-5003-4b28-ac8e-e72a32e913f9\">\n",
              "      Upload widget is only available when the cell has been executed in the\n",
              "      current browser session. Please rerun this cell to enable.\n",
              "      </output>\n",
              "      <script src=\"/nbextensions/google.colab/files.js\"></script> "
            ],
            "text/plain": [
              "<IPython.core.display.HTML object>"
            ]
          },
          "metadata": {}
        },
        {
          "output_type": "stream",
          "name": "stdout",
          "text": [
            "Saving NASDAQ2008.csv to NASDAQ2008.csv\n"
          ]
        }
      ]
    },
    {
      "cell_type": "code",
      "metadata": {
        "id": "DpHwjMDD_S2u",
        "colab": {
          "base_uri": "https://localhost:8080/"
        },
        "outputId": "1fc62664-0b9b-4c5c-b6b6-a49016d8ceca"
      },
      "source": [
        "df.info()"
      ],
      "execution_count": null,
      "outputs": [
        {
          "output_type": "stream",
          "name": "stdout",
          "text": [
            "<class 'pandas.core.frame.DataFrame'>\n",
            "RangeIndex: 182 entries, 0 to 181\n",
            "Data columns (total 7 columns):\n",
            " #   Column     Non-Null Count  Dtype  \n",
            "---  ------     --------------  -----  \n",
            " 0   Date       182 non-null    object \n",
            " 1   Open       182 non-null    float64\n",
            " 2   High       182 non-null    float64\n",
            " 3   Low        182 non-null    float64\n",
            " 4   Close      182 non-null    float64\n",
            " 5   Adj Close  182 non-null    float64\n",
            " 6   Volume     182 non-null    int64  \n",
            "dtypes: float64(5), int64(1), object(1)\n",
            "memory usage: 10.1+ KB\n"
          ]
        }
      ]
    },
    {
      "cell_type": "markdown",
      "metadata": {
        "id": "90uA8WkjRlrQ"
      },
      "source": [
        "Set index in dataframe"
      ]
    },
    {
      "cell_type": "code",
      "metadata": {
        "id": "V8vyWjry_S2v"
      },
      "source": [
        "df.set_index(\"Date\", drop=True, inplace=True)"
      ],
      "execution_count": null,
      "outputs": []
    },
    {
      "cell_type": "markdown",
      "metadata": {
        "id": "PP0ljcnmPzQz"
      },
      "source": [
        "Select Close price column as a dataframe\n"
      ]
    },
    {
      "cell_type": "code",
      "metadata": {
        "id": "E6xzn92S_S2y"
      },
      "source": [
        "df = df[[\"Close\"]]"
      ],
      "execution_count": null,
      "outputs": []
    },
    {
      "cell_type": "code",
      "metadata": {
        "id": "g4R7i2_8_S21",
        "colab": {
          "base_uri": "https://localhost:8080/"
        },
        "outputId": "4d390806-29af-4a07-cd8c-7280f2a86a70"
      },
      "source": [
        "type(df[[\"Close\"]])"
      ],
      "execution_count": null,
      "outputs": [
        {
          "output_type": "execute_result",
          "data": {
            "text/plain": [
              "pandas.core.frame.DataFrame"
            ]
          },
          "metadata": {},
          "execution_count": 7
        }
      ]
    },
    {
      "cell_type": "code",
      "metadata": {
        "id": "DSzijSrE_S22",
        "colab": {
          "base_uri": "https://localhost:8080/",
          "height": 300
        },
        "outputId": "d573cc14-4147-4936-e48d-0e6c3934faa7"
      },
      "source": [
        "df.describe()"
      ],
      "execution_count": null,
      "outputs": [
        {
          "output_type": "execute_result",
          "data": {
            "text/html": [
              "\n",
              "  <div id=\"df-7eb64ea1-9205-4886-8026-01d80d2dc064\">\n",
              "    <div class=\"colab-df-container\">\n",
              "      <div>\n",
              "<style scoped>\n",
              "    .dataframe tbody tr th:only-of-type {\n",
              "        vertical-align: middle;\n",
              "    }\n",
              "\n",
              "    .dataframe tbody tr th {\n",
              "        vertical-align: top;\n",
              "    }\n",
              "\n",
              "    .dataframe thead th {\n",
              "        text-align: right;\n",
              "    }\n",
              "</style>\n",
              "<table border=\"1\" class=\"dataframe\">\n",
              "  <thead>\n",
              "    <tr style=\"text-align: right;\">\n",
              "      <th></th>\n",
              "      <th>Close</th>\n",
              "    </tr>\n",
              "  </thead>\n",
              "  <tbody>\n",
              "    <tr>\n",
              "      <th>count</th>\n",
              "      <td>182.000000</td>\n",
              "    </tr>\n",
              "    <tr>\n",
              "      <th>mean</th>\n",
              "      <td>1597.849888</td>\n",
              "    </tr>\n",
              "    <tr>\n",
              "      <th>std</th>\n",
              "      <td>138.401088</td>\n",
              "    </tr>\n",
              "    <tr>\n",
              "      <th>min</th>\n",
              "      <td>1268.640015</td>\n",
              "    </tr>\n",
              "    <tr>\n",
              "      <th>25%</th>\n",
              "      <td>1506.192504</td>\n",
              "    </tr>\n",
              "    <tr>\n",
              "      <th>50%</th>\n",
              "      <td>1588.445007</td>\n",
              "    </tr>\n",
              "    <tr>\n",
              "      <th>75%</th>\n",
              "      <td>1711.777465</td>\n",
              "    </tr>\n",
              "    <tr>\n",
              "      <th>max</th>\n",
              "      <td>1862.369995</td>\n",
              "    </tr>\n",
              "  </tbody>\n",
              "</table>\n",
              "</div>\n",
              "      <button class=\"colab-df-convert\" onclick=\"convertToInteractive('df-7eb64ea1-9205-4886-8026-01d80d2dc064')\"\n",
              "              title=\"Convert this dataframe to an interactive table.\"\n",
              "              style=\"display:none;\">\n",
              "        \n",
              "  <svg xmlns=\"http://www.w3.org/2000/svg\" height=\"24px\"viewBox=\"0 0 24 24\"\n",
              "       width=\"24px\">\n",
              "    <path d=\"M0 0h24v24H0V0z\" fill=\"none\"/>\n",
              "    <path d=\"M18.56 5.44l.94 2.06.94-2.06 2.06-.94-2.06-.94-.94-2.06-.94 2.06-2.06.94zm-11 1L8.5 8.5l.94-2.06 2.06-.94-2.06-.94L8.5 2.5l-.94 2.06-2.06.94zm10 10l.94 2.06.94-2.06 2.06-.94-2.06-.94-.94-2.06-.94 2.06-2.06.94z\"/><path d=\"M17.41 7.96l-1.37-1.37c-.4-.4-.92-.59-1.43-.59-.52 0-1.04.2-1.43.59L10.3 9.45l-7.72 7.72c-.78.78-.78 2.05 0 2.83L4 21.41c.39.39.9.59 1.41.59.51 0 1.02-.2 1.41-.59l7.78-7.78 2.81-2.81c.8-.78.8-2.07 0-2.86zM5.41 20L4 18.59l7.72-7.72 1.47 1.35L5.41 20z\"/>\n",
              "  </svg>\n",
              "      </button>\n",
              "      \n",
              "  <style>\n",
              "    .colab-df-container {\n",
              "      display:flex;\n",
              "      flex-wrap:wrap;\n",
              "      gap: 12px;\n",
              "    }\n",
              "\n",
              "    .colab-df-convert {\n",
              "      background-color: #E8F0FE;\n",
              "      border: none;\n",
              "      border-radius: 50%;\n",
              "      cursor: pointer;\n",
              "      display: none;\n",
              "      fill: #1967D2;\n",
              "      height: 32px;\n",
              "      padding: 0 0 0 0;\n",
              "      width: 32px;\n",
              "    }\n",
              "\n",
              "    .colab-df-convert:hover {\n",
              "      background-color: #E2EBFA;\n",
              "      box-shadow: 0px 1px 2px rgba(60, 64, 67, 0.3), 0px 1px 3px 1px rgba(60, 64, 67, 0.15);\n",
              "      fill: #174EA6;\n",
              "    }\n",
              "\n",
              "    [theme=dark] .colab-df-convert {\n",
              "      background-color: #3B4455;\n",
              "      fill: #D2E3FC;\n",
              "    }\n",
              "\n",
              "    [theme=dark] .colab-df-convert:hover {\n",
              "      background-color: #434B5C;\n",
              "      box-shadow: 0px 1px 3px 1px rgba(0, 0, 0, 0.15);\n",
              "      filter: drop-shadow(0px 1px 2px rgba(0, 0, 0, 0.3));\n",
              "      fill: #FFFFFF;\n",
              "    }\n",
              "  </style>\n",
              "\n",
              "      <script>\n",
              "        const buttonEl =\n",
              "          document.querySelector('#df-7eb64ea1-9205-4886-8026-01d80d2dc064 button.colab-df-convert');\n",
              "        buttonEl.style.display =\n",
              "          google.colab.kernel.accessAllowed ? 'block' : 'none';\n",
              "\n",
              "        async function convertToInteractive(key) {\n",
              "          const element = document.querySelector('#df-7eb64ea1-9205-4886-8026-01d80d2dc064');\n",
              "          const dataTable =\n",
              "            await google.colab.kernel.invokeFunction('convertToInteractive',\n",
              "                                                     [key], {});\n",
              "          if (!dataTable) return;\n",
              "\n",
              "          const docLinkHtml = 'Like what you see? Visit the ' +\n",
              "            '<a target=\"_blank\" href=https://colab.research.google.com/notebooks/data_table.ipynb>data table notebook</a>'\n",
              "            + ' to learn more about interactive tables.';\n",
              "          element.innerHTML = '';\n",
              "          dataTable['output_type'] = 'display_data';\n",
              "          await google.colab.output.renderOutput(dataTable, element);\n",
              "          const docLink = document.createElement('div');\n",
              "          docLink.innerHTML = docLinkHtml;\n",
              "          element.appendChild(docLink);\n",
              "        }\n",
              "      </script>\n",
              "    </div>\n",
              "  </div>\n",
              "  "
            ],
            "text/plain": [
              "             Close\n",
              "count   182.000000\n",
              "mean   1597.849888\n",
              "std     138.401088\n",
              "min    1268.640015\n",
              "25%    1506.192504\n",
              "50%    1588.445007\n",
              "75%    1711.777465\n",
              "max    1862.369995"
            ]
          },
          "metadata": {},
          "execution_count": 8
        }
      ]
    },
    {
      "cell_type": "markdown",
      "metadata": {
        "id": "sBvttneFTpZV"
      },
      "source": [
        "Plot NASDAQ Composite Index price: 7 October 2008 - 26 June 2009"
      ]
    },
    {
      "cell_type": "code",
      "metadata": {
        "id": "3RBy_LRw_S23",
        "colab": {
          "base_uri": "https://localhost:8080/",
          "height": 374
        },
        "outputId": "6f765bc3-d0ac-460a-df36-f5f446963802"
      },
      "source": [
        "plt.figure(1, figsize=(16, 6))\n",
        "_ = plt.plot(df.Close)"
      ],
      "execution_count": null,
      "outputs": [
        {
          "output_type": "display_data",
          "data": {
            "image/png": "[encoded data removed]",
            "text/plain": [
              "<Figure size 1152x432 with 1 Axes>"
            ]
          },
          "metadata": {
            "needs_background": "light"
          }
        }
      ]
    },
    {
      "cell_type": "markdown",
      "metadata": {
        "id": "ZZ0q5pZsT8xK"
      },
      "source": [
        "Calculate percentage daily returns"
      ]
    },
    {
      "cell_type": "code",
      "metadata": {
        "id": "qVThLSlk_S24"
      },
      "source": [
        "df[\"Returns\"] = df.Close.pct_change()"
      ],
      "execution_count": null,
      "outputs": []
    },
    {
      "cell_type": "code",
      "metadata": {
        "id": "YjQjzTl2_S25",
        "colab": {
          "base_uri": "https://localhost:8080/",
          "height": 237
        },
        "outputId": "a4d59c51-2bc9-4d79-ab30-813fda56f0b3"
      },
      "source": [
        "df.head(5)"
      ],
      "execution_count": null,
      "outputs": [
        {
          "output_type": "execute_result",
          "data": {
            "text/html": [
              "\n",
              "  <div id=\"df-e7c275b4-8d36-4215-af7c-4f4e0a29c514\">\n",
              "    <div class=\"colab-df-container\">\n",
              "      <div>\n",
              "<style scoped>\n",
              "    .dataframe tbody tr th:only-of-type {\n",
              "        vertical-align: middle;\n",
              "    }\n",
              "\n",
              "    .dataframe tbody tr th {\n",
              "        vertical-align: top;\n",
              "    }\n",
              "\n",
              "    .dataframe thead th {\n",
              "        text-align: right;\n",
              "    }\n",
              "</style>\n",
              "<table border=\"1\" class=\"dataframe\">\n",
              "  <thead>\n",
              "    <tr style=\"text-align: right;\">\n",
              "      <th></th>\n",
              "      <th>Close</th>\n",
              "      <th>Returns</th>\n",
              "    </tr>\n",
              "    <tr>\n",
              "      <th>Date</th>\n",
              "      <th></th>\n",
              "      <th></th>\n",
              "    </tr>\n",
              "  </thead>\n",
              "  <tbody>\n",
              "    <tr>\n",
              "      <th>07/10/2008</th>\n",
              "      <td>1754.880005</td>\n",
              "      <td>NaN</td>\n",
              "    </tr>\n",
              "    <tr>\n",
              "      <th>08/10/2008</th>\n",
              "      <td>1740.329956</td>\n",
              "      <td>-0.008291</td>\n",
              "    </tr>\n",
              "    <tr>\n",
              "      <th>09/10/2008</th>\n",
              "      <td>1645.119995</td>\n",
              "      <td>-0.054708</td>\n",
              "    </tr>\n",
              "    <tr>\n",
              "      <th>10/10/2008</th>\n",
              "      <td>1649.510010</td>\n",
              "      <td>0.002669</td>\n",
              "    </tr>\n",
              "    <tr>\n",
              "      <th>13/10/2008</th>\n",
              "      <td>1844.250000</td>\n",
              "      <td>0.118059</td>\n",
              "    </tr>\n",
              "  </tbody>\n",
              "</table>\n",
              "</div>\n",
              "      <button class=\"colab-df-convert\" onclick=\"convertToInteractive('df-e7c275b4-8d36-4215-af7c-4f4e0a29c514')\"\n",
              "              title=\"Convert this dataframe to an interactive table.\"\n",
              "              style=\"display:none;\">\n",
              "        \n",
              "  <svg xmlns=\"http://www.w3.org/2000/svg\" height=\"24px\"viewBox=\"0 0 24 24\"\n",
              "       width=\"24px\">\n",
              "    <path d=\"M0 0h24v24H0V0z\" fill=\"none\"/>\n",
              "    <path d=\"M18.56 5.44l.94 2.06.94-2.06 2.06-.94-2.06-.94-.94-2.06-.94 2.06-2.06.94zm-11 1L8.5 8.5l.94-2.06 2.06-.94-2.06-.94L8.5 2.5l-.94 2.06-2.06.94zm10 10l.94 2.06.94-2.06 2.06-.94-2.06-.94-.94-2.06-.94 2.06-2.06.94z\"/><path d=\"M17.41 7.96l-1.37-1.37c-.4-.4-.92-.59-1.43-.59-.52 0-1.04.2-1.43.59L10.3 9.45l-7.72 7.72c-.78.78-.78 2.05 0 2.83L4 21.41c.39.39.9.59 1.41.59.51 0 1.02-.2 1.41-.59l7.78-7.78 2.81-2.81c.8-.78.8-2.07 0-2.86zM5.41 20L4 18.59l7.72-7.72 1.47 1.35L5.41 20z\"/>\n",
              "  </svg>\n",
              "      </button>\n",
              "      \n",
              "  <style>\n",
              "    .colab-df-container {\n",
              "      display:flex;\n",
              "      flex-wrap:wrap;\n",
              "      gap: 12px;\n",
              "    }\n",
              "\n",
              "    .colab-df-convert {\n",
              "      background-color: #E8F0FE;\n",
              "      border: none;\n",
              "      border-radius: 50%;\n",
              "      cursor: pointer;\n",
              "      display: none;\n",
              "      fill: #1967D2;\n",
              "      height: 32px;\n",
              "      padding: 0 0 0 0;\n",
              "      width: 32px;\n",
              "    }\n",
              "\n",
              "    .colab-df-convert:hover {\n",
              "      background-color: #E2EBFA;\n",
              "      box-shadow: 0px 1px 2px rgba(60, 64, 67, 0.3), 0px 1px 3px 1px rgba(60, 64, 67, 0.15);\n",
              "      fill: #174EA6;\n",
              "    }\n",
              "\n",
              "    [theme=dark] .colab-df-convert {\n",
              "      background-color: #3B4455;\n",
              "      fill: #D2E3FC;\n",
              "    }\n",
              "\n",
              "    [theme=dark] .colab-df-convert:hover {\n",
              "      background-color: #434B5C;\n",
              "      box-shadow: 0px 1px 3px 1px rgba(0, 0, 0, 0.15);\n",
              "      filter: drop-shadow(0px 1px 2px rgba(0, 0, 0, 0.3));\n",
              "      fill: #FFFFFF;\n",
              "    }\n",
              "  </style>\n",
              "\n",
              "      <script>\n",
              "        const buttonEl =\n",
              "          document.querySelector('#df-e7c275b4-8d36-4215-af7c-4f4e0a29c514 button.colab-df-convert');\n",
              "        buttonEl.style.display =\n",
              "          google.colab.kernel.accessAllowed ? 'block' : 'none';\n",
              "\n",
              "        async function convertToInteractive(key) {\n",
              "          const element = document.querySelector('#df-e7c275b4-8d36-4215-af7c-4f4e0a29c514');\n",
              "          const dataTable =\n",
              "            await google.colab.kernel.invokeFunction('convertToInteractive',\n",
              "                                                     [key], {});\n",
              "          if (!dataTable) return;\n",
              "\n",
              "          const docLinkHtml = 'Like what you see? Visit the ' +\n",
              "            '<a target=\"_blank\" href=https://colab.research.google.com/notebooks/data_table.ipynb>data table notebook</a>'\n",
              "            + ' to learn more about interactive tables.';\n",
              "          element.innerHTML = '';\n",
              "          dataTable['output_type'] = 'display_data';\n",
              "          await google.colab.output.renderOutput(dataTable, element);\n",
              "          const docLink = document.createElement('div');\n",
              "          docLink.innerHTML = docLinkHtml;\n",
              "          element.appendChild(docLink);\n",
              "        }\n",
              "      </script>\n",
              "    </div>\n",
              "  </div>\n",
              "  "
            ],
            "text/plain": [
              "                  Close   Returns\n",
              "Date                             \n",
              "07/10/2008  1754.880005       NaN\n",
              "08/10/2008  1740.329956 -0.008291\n",
              "09/10/2008  1645.119995 -0.054708\n",
              "10/10/2008  1649.510010  0.002669\n",
              "13/10/2008  1844.250000  0.118059"
            ]
          },
          "metadata": {},
          "execution_count": 11
        }
      ]
    },
    {
      "cell_type": "markdown",
      "metadata": {
        "id": "Eru3Nn9oc2EL"
      },
      "source": [
        "Calculate the log daily returns"
      ]
    },
    {
      "cell_type": "code",
      "metadata": {
        "id": "6C3NTEVG_S27"
      },
      "source": [
        "df[\"Log_returns\"] = np.log(1 + df[\"Returns\"])"
      ],
      "execution_count": null,
      "outputs": []
    },
    {
      "cell_type": "code",
      "metadata": {
        "id": "h9DUwFfS_S27",
        "colab": {
          "base_uri": "https://localhost:8080/",
          "height": 237
        },
        "outputId": "12491c17-c5e0-43ac-a232-a78a28755a22"
      },
      "source": [
        "df.head(5)"
      ],
      "execution_count": null,
      "outputs": [
        {
          "output_type": "execute_result",
          "data": {
            "text/html": [
              "\n",
              "  <div id=\"df-cbc4ea8f-843b-41aa-ae7a-9058cfec303b\">\n",
              "    <div class=\"colab-df-container\">\n",
              "      <div>\n",
              "<style scoped>\n",
              "    .dataframe tbody tr th:only-of-type {\n",
              "        vertical-align: middle;\n",
              "    }\n",
              "\n",
              "    .dataframe tbody tr th {\n",
              "        vertical-align: top;\n",
              "    }\n",
              "\n",
              "    .dataframe thead th {\n",
              "        text-align: right;\n",
              "    }\n",
              "</style>\n",
              "<table border=\"1\" class=\"dataframe\">\n",
              "  <thead>\n",
              "    <tr style=\"text-align: right;\">\n",
              "      <th></th>\n",
              "      <th>Close</th>\n",
              "      <th>Returns</th>\n",
              "      <th>Log_returns</th>\n",
              "    </tr>\n",
              "    <tr>\n",
              "      <th>Date</th>\n",
              "      <th></th>\n",
              "      <th></th>\n",
              "      <th></th>\n",
              "    </tr>\n",
              "  </thead>\n",
              "  <tbody>\n",
              "    <tr>\n",
              "      <th>07/10/2008</th>\n",
              "      <td>1754.880005</td>\n",
              "      <td>NaN</td>\n",
              "      <td>NaN</td>\n",
              "    </tr>\n",
              "    <tr>\n",
              "      <th>08/10/2008</th>\n",
              "      <td>1740.329956</td>\n",
              "      <td>-0.008291</td>\n",
              "      <td>-0.008326</td>\n",
              "    </tr>\n",
              "    <tr>\n",
              "      <th>09/10/2008</th>\n",
              "      <td>1645.119995</td>\n",
              "      <td>-0.054708</td>\n",
              "      <td>-0.056261</td>\n",
              "    </tr>\n",
              "    <tr>\n",
              "      <th>10/10/2008</th>\n",
              "      <td>1649.510010</td>\n",
              "      <td>0.002669</td>\n",
              "      <td>0.002665</td>\n",
              "    </tr>\n",
              "    <tr>\n",
              "      <th>13/10/2008</th>\n",
              "      <td>1844.250000</td>\n",
              "      <td>0.118059</td>\n",
              "      <td>0.111594</td>\n",
              "    </tr>\n",
              "  </tbody>\n",
              "</table>\n",
              "</div>\n",
              "      <button class=\"colab-df-convert\" onclick=\"convertToInteractive('df-cbc4ea8f-843b-41aa-ae7a-9058cfec303b')\"\n",
              "              title=\"Convert this dataframe to an interactive table.\"\n",
              "              style=\"display:none;\">\n",
              "        \n",
              "  <svg xmlns=\"http://www.w3.org/2000/svg\" height=\"24px\"viewBox=\"0 0 24 24\"\n",
              "       width=\"24px\">\n",
              "    <path d=\"M0 0h24v24H0V0z\" fill=\"none\"/>\n",
              "    <path d=\"M18.56 5.44l.94 2.06.94-2.06 2.06-.94-2.06-.94-.94-2.06-.94 2.06-2.06.94zm-11 1L8.5 8.5l.94-2.06 2.06-.94-2.06-.94L8.5 2.5l-.94 2.06-2.06.94zm10 10l.94 2.06.94-2.06 2.06-.94-2.06-.94-.94-2.06-.94 2.06-2.06.94z\"/><path d=\"M17.41 7.96l-1.37-1.37c-.4-.4-.92-.59-1.43-.59-.52 0-1.04.2-1.43.59L10.3 9.45l-7.72 7.72c-.78.78-.78 2.05 0 2.83L4 21.41c.39.39.9.59 1.41.59.51 0 1.02-.2 1.41-.59l7.78-7.78 2.81-2.81c.8-.78.8-2.07 0-2.86zM5.41 20L4 18.59l7.72-7.72 1.47 1.35L5.41 20z\"/>\n",
              "  </svg>\n",
              "      </button>\n",
              "      \n",
              "  <style>\n",
              "    .colab-df-container {\n",
              "      display:flex;\n",
              "      flex-wrap:wrap;\n",
              "      gap: 12px;\n",
              "    }\n",
              "\n",
              "    .colab-df-convert {\n",
              "      background-color: #E8F0FE;\n",
              "      border: none;\n",
              "      border-radius: 50%;\n",
              "      cursor: pointer;\n",
              "      display: none;\n",
              "      fill: #1967D2;\n",
              "      height: 32px;\n",
              "      padding: 0 0 0 0;\n",
              "      width: 32px;\n",
              "    }\n",
              "\n",
              "    .colab-df-convert:hover {\n",
              "      background-color: #E2EBFA;\n",
              "      box-shadow: 0px 1px 2px rgba(60, 64, 67, 0.3), 0px 1px 3px 1px rgba(60, 64, 67, 0.15);\n",
              "      fill: #174EA6;\n",
              "    }\n",
              "\n",
              "    [theme=dark] .colab-df-convert {\n",
              "      background-color: #3B4455;\n",
              "      fill: #D2E3FC;\n",
              "    }\n",
              "\n",
              "    [theme=dark] .colab-df-convert:hover {\n",
              "      background-color: #434B5C;\n",
              "      box-shadow: 0px 1px 3px 1px rgba(0, 0, 0, 0.15);\n",
              "      filter: drop-shadow(0px 1px 2px rgba(0, 0, 0, 0.3));\n",
              "      fill: #FFFFFF;\n",
              "    }\n",
              "  </style>\n",
              "\n",
              "      <script>\n",
              "        const buttonEl =\n",
              "          document.querySelector('#df-cbc4ea8f-843b-41aa-ae7a-9058cfec303b button.colab-df-convert');\n",
              "        buttonEl.style.display =\n",
              "          google.colab.kernel.accessAllowed ? 'block' : 'none';\n",
              "\n",
              "        async function convertToInteractive(key) {\n",
              "          const element = document.querySelector('#df-cbc4ea8f-843b-41aa-ae7a-9058cfec303b');\n",
              "          const dataTable =\n",
              "            await google.colab.kernel.invokeFunction('convertToInteractive',\n",
              "                                                     [key], {});\n",
              "          if (!dataTable) return;\n",
              "\n",
              "          const docLinkHtml = 'Like what you see? Visit the ' +\n",
              "            '<a target=\"_blank\" href=https://colab.research.google.com/notebooks/data_table.ipynb>data table notebook</a>'\n",
              "            + ' to learn more about interactive tables.';\n",
              "          element.innerHTML = '';\n",
              "          dataTable['output_type'] = 'display_data';\n",
              "          await google.colab.output.renderOutput(dataTable, element);\n",
              "          const docLink = document.createElement('div');\n",
              "          docLink.innerHTML = docLinkHtml;\n",
              "          element.appendChild(docLink);\n",
              "        }\n",
              "      </script>\n",
              "    </div>\n",
              "  </div>\n",
              "  "
            ],
            "text/plain": [
              "                  Close   Returns  Log_returns\n",
              "Date                                          \n",
              "07/10/2008  1754.880005       NaN          NaN\n",
              "08/10/2008  1740.329956 -0.008291    -0.008326\n",
              "09/10/2008  1645.119995 -0.054708    -0.056261\n",
              "10/10/2008  1649.510010  0.002669     0.002665\n",
              "13/10/2008  1844.250000  0.118059     0.111594"
            ]
          },
          "metadata": {},
          "execution_count": 13
        }
      ]
    },
    {
      "cell_type": "markdown",
      "metadata": {
        "id": "zdfhkhqdeC51"
      },
      "source": [
        "Plot Log Daily Returns - mean is always centred on zero"
      ]
    },
    {
      "cell_type": "code",
      "metadata": {
        "id": "1G-QYhDH_S28",
        "colab": {
          "base_uri": "https://localhost:8080/",
          "height": 283
        },
        "outputId": "8ed00164-bca0-436f-fd8a-be28fae9ce42"
      },
      "source": [
        "plt.figure(1, figsize=(16, 4))\n",
        "plt.plot(df.Log_returns)"
      ],
      "execution_count": null,
      "outputs": [
        {
          "output_type": "execute_result",
          "data": {
            "text/plain": [
              "[<matplotlib.lines.Line2D at 0x7f02cb0b0390>]"
            ]
          },
          "metadata": {},
          "execution_count": 14
        },
        {
          "output_type": "display_data",
          "data": {
            "image/png": "[encoded data removed]",
            "text/plain": [
              "<Figure size 1152x288 with 1 Axes>"
            ]
          },
          "metadata": {
            "needs_background": "light"
          }
        }
      ]
    },
    {
      "cell_type": "markdown",
      "metadata": {
        "id": "8WIvxxxvfXnD"
      },
      "source": [
        "Drop null values in the dataframe"
      ]
    },
    {
      "cell_type": "code",
      "metadata": {
        "id": "D0AXGNai_S28"
      },
      "source": [
        "df.dropna(inplace=True)"
      ],
      "execution_count": null,
      "outputs": []
    },
    {
      "cell_type": "markdown",
      "metadata": {
        "id": "rcC6-FOqftR9"
      },
      "source": [
        "Select input variables"
      ]
    },
    {
      "cell_type": "code",
      "metadata": {
        "id": "b1me56Y6fvVA"
      },
      "source": [
        "X = df[[\"Close\", \"Log_returns\"]].values"
      ],
      "execution_count": null,
      "outputs": []
    },
    {
      "cell_type": "code",
      "metadata": {
        "colab": {
          "base_uri": "https://localhost:8080/"
        },
        "id": "W_QFI9CigF97",
        "outputId": "db3d05ca-436f-4be7-8d31-02b582f6a097"
      },
      "source": [
        "X"
      ],
      "execution_count": null,
      "outputs": [
        {
          "output_type": "execute_result",
          "data": {
            "text/plain": [
              "array([[ 1.74032996e+03, -8.32575623e-03],\n",
              "       [ 1.64512000e+03, -5.62613983e-02],\n",
              "       [ 1.64951001e+03,  2.66495333e-03],\n",
              "       [ 1.84425000e+03,  1.11594411e-01],\n",
              "       [ 1.77901001e+03, -3.60156554e-02],\n",
              "       [ 1.62832996e+03, -8.85021127e-02],\n",
              "       [ 1.71770996e+03,  5.34370630e-02],\n",
              "       [ 1.71129004e+03, -3.74449081e-03],\n",
              "       [ 1.77003003e+03,  3.37490171e-02],\n",
              "       [ 1.69668005e+03, -4.23230797e-02],\n",
              "       [ 1.61575000e+03, -4.88741871e-02],\n",
              "       [ 1.60391003e+03, -7.35482582e-03],\n",
              "       [ 1.55203003e+03, -3.28806492e-02],\n",
              "       [ 1.50590002e+03, -3.01730281e-02],\n",
              "       [ 1.64946997e+03,  9.10632646e-02],\n",
              "       [ 1.65720996e+03,  4.68143533e-03],\n",
              "       [ 1.69852002e+03,  2.46218535e-02],\n",
              "       [ 1.72094995e+03,  1.31191400e-02],\n",
              "       [ 1.72632996e+03,  3.12130695e-03],\n",
              "       [ 1.78012000e+03,  3.06830325e-02],\n",
              "       [ 1.68164001e+03, -5.69112583e-02],\n",
              "       [ 1.60869995e+03, -4.43431477e-02],\n",
              "       [ 1.64740002e+03,  2.37719331e-02],\n",
              "       [ 1.61673999e+03, -1.87865322e-02],\n",
              "       [ 1.58090002e+03, -2.24174496e-02],\n",
              "       [ 1.49920996e+03, -5.30560436e-02],\n",
              "       [ 1.59669995e+03,  6.30006920e-02],\n",
              "       [ 1.51684998e+03, -5.13031684e-02],\n",
              "       [ 1.48205005e+03, -2.32095027e-02],\n",
              "       [ 1.48327002e+03,  8.22825894e-04],\n",
              "       [ 1.38642004e+03, -6.75242066e-02],\n",
              "       [ 1.31612000e+03, -5.20369065e-02],\n",
              "       [ 1.38434998e+03,  5.05426877e-02],\n",
              "       [ 1.47202002e+03,  6.14049227e-02],\n",
              "       [ 1.46472998e+03, -4.96470927e-03],\n",
              "       [ 1.53209998e+03,  4.49684162e-02],\n",
              "       [ 1.53556995e+03,  2.26228478e-03],\n",
              "       [ 1.39806995e+03, -9.38089370e-02],\n",
              "       [ 1.44980005e+03,  3.63329742e-02],\n",
              "       [ 1.49238000e+03,  2.89465147e-02],\n",
              "       [ 1.44556006e+03, -3.18753338e-02],\n",
              "       [ 1.50931006e+03,  4.31558013e-02],\n",
              "       [ 1.57173999e+03,  4.05306477e-02],\n",
              "       [ 1.54733997e+03, -1.56459739e-02],\n",
              "       [ 1.56547998e+03,  1.16551678e-02],\n",
              "       [ 1.50788000e+03, -3.74877793e-02],\n",
              "       [ 1.54071997e+03,  2.15451267e-02],\n",
              "       [ 1.50833997e+03, -2.12401350e-02],\n",
              "       [ 1.58989001e+03,  5.26551551e-02],\n",
              "       [ 1.57931006e+03, -6.67676073e-03],\n",
              "       [ 1.55237000e+03, -1.72052880e-02],\n",
              "       [ 1.56431995e+03,  7.66839807e-03],\n",
              "       [ 1.53234998e+03, -2.06487012e-02],\n",
              "       [ 1.52154004e+03, -7.07948361e-03],\n",
              "       [ 1.52490002e+03,  2.20584439e-03],\n",
              "       [ 1.53023999e+03,  3.49572944e-03],\n",
              "       [ 1.51031995e+03, -1.31030662e-02],\n",
              "       [ 1.55069995e+03,  2.63848971e-02],\n",
              "       [ 1.57703003e+03,  1.68369394e-02],\n",
              "       [ 1.63220996e+03,  3.43915512e-02],\n",
              "       [ 1.62803003e+03, -2.56418810e-03],\n",
              "       [ 1.65238000e+03,  1.48459631e-02],\n",
              "       [ 1.59906006e+03, -3.28006824e-02],\n",
              "       [ 1.61701001e+03,  1.11627776e-02],\n",
              "       [ 1.57158997e+03, -2.84909469e-02],\n",
              "       [ 1.53879004e+03, -2.10914055e-02],\n",
              "       [ 1.54645996e+03,  4.97200408e-03],\n",
              "       [ 1.48964001e+03, -3.74339326e-02],\n",
              "       [ 1.51183997e+03,  1.47929395e-02],\n",
              "       [ 1.52932996e+03,  1.15022727e-02],\n",
              "       [ 1.44085999e+03, -5.95895551e-02],\n",
              "       [ 1.50706995e+03,  4.49271855e-02],\n",
              "       [ 1.46548999e+03, -2.79776819e-02],\n",
              "       [ 1.47729004e+03,  8.01970390e-03],\n",
              "       [ 1.48945996e+03,  8.20425736e-03],\n",
              "       [ 1.50490002e+03,  1.03128548e-02],\n",
              "       [ 1.55833997e+03,  3.48946636e-02],\n",
              "       [ 1.50783997e+03, -3.29429897e-02],\n",
              "       [ 1.47642004e+03, -2.10578723e-02],\n",
              "       [ 1.49443005e+03,  1.21246310e-02],\n",
              "       [ 1.51630005e+03,  1.45282898e-02],\n",
              "       [ 1.51505005e+03, -8.24715081e-04],\n",
              "       [ 1.54623999e+03,  2.03776969e-02],\n",
              "       [ 1.59170996e+03,  2.89827145e-02],\n",
              "       [ 1.59156006e+03, -9.41811403e-05],\n",
              "       [ 1.52472998e+03, -4.28973723e-02],\n",
              "       [ 1.53050000e+03,  3.77714732e-03],\n",
              "       [ 1.54170996e+03,  7.29768531e-03],\n",
              "       [ 1.53435999e+03, -4.77881850e-03],\n",
              "       [ 1.47066003e+03, -4.24020435e-02],\n",
              "       [ 1.46796997e+03, -1.83082848e-03],\n",
              "       [ 1.44281995e+03, -1.72809798e-02],\n",
              "       [ 1.44122998e+03, -1.10259267e-03],\n",
              "       [ 1.38771997e+03, -3.78348101e-02],\n",
              "       [ 1.44182996e+03,  3.82510178e-02],\n",
              "       [ 1.42543005e+03, -1.14395491e-02],\n",
              "       [ 1.39146997e+03, -2.41128390e-02],\n",
              "       [ 1.37783997e+03, -9.84369057e-03],\n",
              "       [ 1.32284998e+03, -4.07285490e-02],\n",
              "       [ 1.32101001e+03, -1.39187877e-03],\n",
              "       [ 1.35373999e+03,  2.44745219e-02],\n",
              "       [ 1.29958997e+03, -4.08223211e-02],\n",
              "       [ 1.29384998e+03, -4.42655276e-03],\n",
              "       [ 1.26864001e+03, -1.96767788e-02],\n",
              "       [ 1.35828003e+03,  6.82737424e-02],\n",
              "       [ 1.37164001e+03,  9.78790034e-03],\n",
              "       [ 1.42609998e+03,  3.89363138e-02],\n",
              "       [ 1.43150000e+03,  3.77941662e-03],\n",
              "       [ 1.40402002e+03, -1.93832808e-02],\n",
              "       [ 1.46210999e+03,  4.05410229e-02],\n",
              "       [ 1.49121997e+03,  1.97139698e-02],\n",
              "       [ 1.48347998e+03, -5.20389188e-03],\n",
              "       [ 1.45727002e+03, -1.78258295e-02],\n",
              "       [ 1.55577002e+03,  6.54057767e-02],\n",
              "       [ 1.51652002e+03, -2.55523633e-02],\n",
              "       [ 1.52894995e+03,  8.16294374e-03],\n",
              "       [ 1.58700000e+03,  3.72642483e-02],\n",
              "       [ 1.54519995e+03, -2.66921214e-02],\n",
              "       [ 1.50180005e+03, -2.84888988e-02],\n",
              "       [ 1.52858997e+03,  1.76812983e-02],\n",
              "       [ 1.55159998e+03,  1.49409215e-02],\n",
              "       [ 1.60263000e+03,  3.23593918e-02],\n",
              "       [ 1.62187000e+03,  1.19337685e-02],\n",
              "       [ 1.60670996e+03, -9.39121572e-03],\n",
              "       [ 1.56160999e+03, -2.84712550e-02],\n",
              "       [ 1.59066003e+03,  1.84317151e-02],\n",
              "       [ 1.65254004e+03,  3.81644760e-02],\n",
              "       [ 1.65331006e+03,  4.65852952e-04],\n",
              "       [ 1.62571997e+03, -1.68285980e-02],\n",
              "       [ 1.62680005e+03,  6.64148434e-04],\n",
              "       [ 1.67043994e+03,  2.64721043e-02],\n",
              "       [ 1.67306995e+03,  1.57320040e-03],\n",
              "       [ 1.60820996e+03, -3.95384949e-02],\n",
              "       [ 1.64384998e+03,  2.19193020e-02],\n",
              "       [ 1.64612000e+03,  1.37996357e-03],\n",
              "       [ 1.65220996e+03,  3.69276149e-03],\n",
              "       [ 1.69429004e+03,  2.51500350e-02],\n",
              "       [ 1.67941003e+03, -8.82123554e-03],\n",
              "       [ 1.67381006e+03, -3.34006123e-03],\n",
              "       [ 1.71193994e+03,  2.25246956e-02],\n",
              "       [ 1.71730005e+03,  3.12612263e-03],\n",
              "       [ 1.71919995e+03,  1.10571930e-03],\n",
              "       [ 1.76356006e+03,  2.54754890e-02],\n",
              "       [ 1.75412000e+03, -5.36722301e-03],\n",
              "       [ 1.75909998e+03,  2.83499717e-03],\n",
              "       [ 1.71623999e+03, -2.46664554e-02],\n",
              "       [ 1.73900000e+03,  1.31743898e-02],\n",
              "       [ 1.73123999e+03, -4.47232638e-03],\n",
              "       [ 1.71592004e+03, -8.88850341e-03],\n",
              "       [ 1.66418994e+03, -3.06109225e-02],\n",
              "       [ 1.68920996e+03,  1.49224578e-02],\n",
              "       [ 1.68014001e+03, -5.38380873e-03],\n",
              "       [ 1.73235999e+03,  3.06074999e-02],\n",
              "       [ 1.73454004e+03,  1.25763897e-03],\n",
              "       [ 1.72783997e+03, -3.87021722e-03],\n",
              "       [ 1.69525000e+03, -1.90418312e-02],\n",
              "       [ 1.69201001e+03, -1.91304534e-03],\n",
              "       [ 1.75043005e+03,  3.39443256e-02],\n",
              "       [ 1.73107996e+03, -1.11160371e-02],\n",
              "       [ 1.75179004e+03,  1.18926788e-02],\n",
              "       [ 1.77432996e+03,  1.27847175e-02],\n",
              "       [ 1.82868005e+03,  3.01715626e-02],\n",
              "       [ 1.83680005e+03,  4.43052918e-03],\n",
              "       [ 1.82592004e+03, -5.94096012e-03],\n",
              "       [ 1.85002002e+03,  1.31124670e-02],\n",
              "       [ 1.84942004e+03, -3.24360441e-04],\n",
              "       [ 1.84240002e+03, -3.80301766e-03],\n",
              "       [ 1.86013000e+03,  9.57729789e-03],\n",
              "       [ 1.85307996e+03, -3.79728458e-03],\n",
              "       [ 1.86237000e+03,  5.00077163e-03],\n",
              "       [ 1.85880005e+03, -1.91872290e-03],\n",
              "       [ 1.81638000e+03, -2.30856324e-02],\n",
              "       [ 1.79618005e+03, -1.11832945e-02],\n",
              "       [ 1.80806006e+03,  6.59226225e-03],\n",
              "       [ 1.80771997e+03, -1.88113214e-04],\n",
              "       [ 1.82746997e+03,  1.08661141e-02],\n",
              "       [ 1.76618994e+03, -3.41078300e-02],\n",
              "       [ 1.76492004e+03, -7.19262249e-04],\n",
              "       [ 1.79233997e+03,  1.54166212e-02],\n",
              "       [ 1.82954004e+03,  2.05425807e-02],\n",
              "       [ 1.83821997e+03,  4.73310586e-03]])"
            ]
          },
          "metadata": {},
          "execution_count": 17
        }
      ]
    },
    {
      "cell_type": "markdown",
      "metadata": {
        "id": "OGnYUWJxh6r1"
      },
      "source": [
        "Scale data between 0 and 1"
      ]
    },
    {
      "cell_type": "code",
      "metadata": {
        "id": "-Rvs0XTc_S2-"
      },
      "source": [
        "scaler = MinMaxScaler(feature_range=(0, 1)).fit(X)\n",
        "X_scaled = scaler.transform(X)"
      ],
      "execution_count": null,
      "outputs": []
    },
    {
      "cell_type": "code",
      "metadata": {
        "id": "8aBQVn-X_S2-",
        "colab": {
          "base_uri": "https://localhost:8080/"
        },
        "outputId": "f5a14e52-9378-4a56-ae6f-9eafd860e086"
      },
      "source": [
        "X_scaled[:5]"
      ],
      "execution_count": null,
      "outputs": [
        {
          "output_type": "execute_result",
          "data": {
            "text/plain": [
              "array([[0.79445195, 0.41617229],\n",
              "       [0.63409293, 0.18279906],\n",
              "       [0.64148688, 0.46968022],\n",
              "       [0.96948108, 1.        ],\n",
              "       [0.8595995 , 0.28136485]])"
            ]
          },
          "metadata": {},
          "execution_count": 19
        }
      ]
    },
    {
      "cell_type": "markdown",
      "metadata": {
        "id": "cytQYfX6iPVn"
      },
      "source": [
        "y is output or target variable"
      ]
    },
    {
      "cell_type": "code",
      "metadata": {
        "id": "JE7ZqiL2_S2_"
      },
      "source": [
        "y = [x[0] for x in X_scaled]"
      ],
      "execution_count": null,
      "outputs": []
    },
    {
      "cell_type": "code",
      "metadata": {
        "id": "w4cqnTJL_S2_",
        "colab": {
          "base_uri": "https://localhost:8080/"
        },
        "outputId": "162ece7d-f8b8-451b-fd60-572d8c260add"
      },
      "source": [
        "y[:5]"
      ],
      "execution_count": null,
      "outputs": [
        {
          "output_type": "execute_result",
          "data": {
            "text/plain": [
              "[0.7944519510367316,\n",
              " 0.6340929255416747,\n",
              " 0.6414868843240824,\n",
              " 0.969481084650635,\n",
              " 0.859599501780254]"
            ]
          },
          "metadata": {},
          "execution_count": 21
        }
      ]
    },
    {
      "cell_type": "markdown",
      "metadata": {
        "id": "GyayS_F_iZbD"
      },
      "source": [
        "Split data into training data and test data"
      ]
    },
    {
      "cell_type": "code",
      "metadata": {
        "id": "E_Eouefb_S2_",
        "colab": {
          "base_uri": "https://localhost:8080/"
        },
        "outputId": "992d1936-5a0b-455e-dd97-65de281e2507"
      },
      "source": [
        "split = int(len(X_scaled) * 0.8)\n",
        "print(split)"
      ],
      "execution_count": null,
      "outputs": [
        {
          "output_type": "stream",
          "name": "stdout",
          "text": [
            "144\n"
          ]
        }
      ]
    },
    {
      "cell_type": "code",
      "metadata": {
        "id": "COMZrlgQ_S3A"
      },
      "source": [
        "X_train = X_scaled[:split]\n",
        "X_test = X_scaled[split : len(X_scaled)]\n",
        "y_train = y[:split]"
      ],
      "execution_count": null,
      "outputs": []
    },
    {
      "cell_type": "markdown",
      "metadata": {
        "id": "Q7sDasDfjddI"
      },
      "source": [
        "Check X_train and y_train are equal in length"
      ]
    },
    {
      "cell_type": "code",
      "metadata": {
        "id": "9JVVq4UM_S3A"
      },
      "source": [
        "assert len(X_train) == len(y_train)"
      ],
      "execution_count": null,
      "outputs": []
    },
    {
      "cell_type": "markdown",
      "metadata": {
        "id": "v190FLKN_S3A"
      },
      "source": [
        "Predict the stock price at time t + 1"
      ]
    },
    {
      "cell_type": "markdown",
      "metadata": {
        "id": "IK7ZqLjX_S3A"
      },
      "source": [
        "Using an LSTM model the memory is maintained by setting the time step -  how many steps in the past we want the LSTM to use."
      ]
    },
    {
      "cell_type": "code",
      "metadata": {
        "id": "guFB_Ct__S3B"
      },
      "source": [
        "n = 3 #number of steps\n",
        "Xtrain = []\n",
        "ytrain = []\n",
        "Xtest = []\n",
        "for i in range(n, len(X_train)):\n",
        "    Xtrain.append(X_train[i - n : i, : X_train.shape[1]])\n",
        "    ytrain.append(y_train[i])  # predict next price\n",
        "for i in range(n, len(X_test)):\n",
        "    Xtest.append(X_test[i - n : i, : X_test.shape[1]])"
      ],
      "execution_count": null,
      "outputs": []
    },
    {
      "cell_type": "code",
      "metadata": {
        "id": "1c72Jxo8_S3B",
        "colab": {
          "base_uri": "https://localhost:8080/",
          "height": 237
        },
        "outputId": "5506329b-3042-43b6-ed84-f0d945bc8b40"
      },
      "source": [
        "df.head(5)"
      ],
      "execution_count": null,
      "outputs": [
        {
          "output_type": "execute_result",
          "data": {
            "text/html": [
              "\n",
              "  <div id=\"df-d10a6698-1432-4a51-a0d9-35f62caa2dd2\">\n",
              "    <div class=\"colab-df-container\">\n",
              "      <div>\n",
              "<style scoped>\n",
              "    .dataframe tbody tr th:only-of-type {\n",
              "        vertical-align: middle;\n",
              "    }\n",
              "\n",
              "    .dataframe tbody tr th {\n",
              "        vertical-align: top;\n",
              "    }\n",
              "\n",
              "    .dataframe thead th {\n",
              "        text-align: right;\n",
              "    }\n",
              "</style>\n",
              "<table border=\"1\" class=\"dataframe\">\n",
              "  <thead>\n",
              "    <tr style=\"text-align: right;\">\n",
              "      <th></th>\n",
              "      <th>Close</th>\n",
              "      <th>Returns</th>\n",
              "      <th>Log_returns</th>\n",
              "    </tr>\n",
              "    <tr>\n",
              "      <th>Date</th>\n",
              "      <th></th>\n",
              "      <th></th>\n",
              "      <th></th>\n",
              "    </tr>\n",
              "  </thead>\n",
              "  <tbody>\n",
              "    <tr>\n",
              "      <th>08/10/2008</th>\n",
              "      <td>1740.329956</td>\n",
              "      <td>-0.008291</td>\n",
              "      <td>-0.008326</td>\n",
              "    </tr>\n",
              "    <tr>\n",
              "      <th>09/10/2008</th>\n",
              "      <td>1645.119995</td>\n",
              "      <td>-0.054708</td>\n",
              "      <td>-0.056261</td>\n",
              "    </tr>\n",
              "    <tr>\n",
              "      <th>10/10/2008</th>\n",
              "      <td>1649.510010</td>\n",
              "      <td>0.002669</td>\n",
              "      <td>0.002665</td>\n",
              "    </tr>\n",
              "    <tr>\n",
              "      <th>13/10/2008</th>\n",
              "      <td>1844.250000</td>\n",
              "      <td>0.118059</td>\n",
              "      <td>0.111594</td>\n",
              "    </tr>\n",
              "    <tr>\n",
              "      <th>14/10/2008</th>\n",
              "      <td>1779.010010</td>\n",
              "      <td>-0.035375</td>\n",
              "      <td>-0.036016</td>\n",
              "    </tr>\n",
              "  </tbody>\n",
              "</table>\n",
              "</div>\n",
              "      <button class=\"colab-df-convert\" onclick=\"convertToInteractive('df-d10a6698-1432-4a51-a0d9-35f62caa2dd2')\"\n",
              "              title=\"Convert this dataframe to an interactive table.\"\n",
              "              style=\"display:none;\">\n",
              "        \n",
              "  <svg xmlns=\"http://www.w3.org/2000/svg\" height=\"24px\"viewBox=\"0 0 24 24\"\n",
              "       width=\"24px\">\n",
              "    <path d=\"M0 0h24v24H0V0z\" fill=\"none\"/>\n",
              "    <path d=\"M18.56 5.44l.94 2.06.94-2.06 2.06-.94-2.06-.94-.94-2.06-.94 2.06-2.06.94zm-11 1L8.5 8.5l.94-2.06 2.06-.94-2.06-.94L8.5 2.5l-.94 2.06-2.06.94zm10 10l.94 2.06.94-2.06 2.06-.94-2.06-.94-.94-2.06-.94 2.06-2.06.94z\"/><path d=\"M17.41 7.96l-1.37-1.37c-.4-.4-.92-.59-1.43-.59-.52 0-1.04.2-1.43.59L10.3 9.45l-7.72 7.72c-.78.78-.78 2.05 0 2.83L4 21.41c.39.39.9.59 1.41.59.51 0 1.02-.2 1.41-.59l7.78-7.78 2.81-2.81c.8-.78.8-2.07 0-2.86zM5.41 20L4 18.59l7.72-7.72 1.47 1.35L5.41 20z\"/>\n",
              "  </svg>\n",
              "      </button>\n",
              "      \n",
              "  <style>\n",
              "    .colab-df-container {\n",
              "      display:flex;\n",
              "      flex-wrap:wrap;\n",
              "      gap: 12px;\n",
              "    }\n",
              "\n",
              "    .colab-df-convert {\n",
              "      background-color: #E8F0FE;\n",
              "      border: none;\n",
              "      border-radius: 50%;\n",
              "      cursor: pointer;\n",
              "      display: none;\n",
              "      fill: #1967D2;\n",
              "      height: 32px;\n",
              "      padding: 0 0 0 0;\n",
              "      width: 32px;\n",
              "    }\n",
              "\n",
              "    .colab-df-convert:hover {\n",
              "      background-color: #E2EBFA;\n",
              "      box-shadow: 0px 1px 2px rgba(60, 64, 67, 0.3), 0px 1px 3px 1px rgba(60, 64, 67, 0.15);\n",
              "      fill: #174EA6;\n",
              "    }\n",
              "\n",
              "    [theme=dark] .colab-df-convert {\n",
              "      background-color: #3B4455;\n",
              "      fill: #D2E3FC;\n",
              "    }\n",
              "\n",
              "    [theme=dark] .colab-df-convert:hover {\n",
              "      background-color: #434B5C;\n",
              "      box-shadow: 0px 1px 3px 1px rgba(0, 0, 0, 0.15);\n",
              "      filter: drop-shadow(0px 1px 2px rgba(0, 0, 0, 0.3));\n",
              "      fill: #FFFFFF;\n",
              "    }\n",
              "  </style>\n",
              "\n",
              "      <script>\n",
              "        const buttonEl =\n",
              "          document.querySelector('#df-d10a6698-1432-4a51-a0d9-35f62caa2dd2 button.colab-df-convert');\n",
              "        buttonEl.style.display =\n",
              "          google.colab.kernel.accessAllowed ? 'block' : 'none';\n",
              "\n",
              "        async function convertToInteractive(key) {\n",
              "          const element = document.querySelector('#df-d10a6698-1432-4a51-a0d9-35f62caa2dd2');\n",
              "          const dataTable =\n",
              "            await google.colab.kernel.invokeFunction('convertToInteractive',\n",
              "                                                     [key], {});\n",
              "          if (!dataTable) return;\n",
              "\n",
              "          const docLinkHtml = 'Like what you see? Visit the ' +\n",
              "            '<a target=\"_blank\" href=https://colab.research.google.com/notebooks/data_table.ipynb>data table notebook</a>'\n",
              "            + ' to learn more about interactive tables.';\n",
              "          element.innerHTML = '';\n",
              "          dataTable['output_type'] = 'display_data';\n",
              "          await google.colab.output.renderOutput(dataTable, element);\n",
              "          const docLink = document.createElement('div');\n",
              "          docLink.innerHTML = docLinkHtml;\n",
              "          element.appendChild(docLink);\n",
              "        }\n",
              "      </script>\n",
              "    </div>\n",
              "  </div>\n",
              "  "
            ],
            "text/plain": [
              "                  Close   Returns  Log_returns\n",
              "Date                                          \n",
              "08/10/2008  1740.329956 -0.008291    -0.008326\n",
              "09/10/2008  1645.119995 -0.054708    -0.056261\n",
              "10/10/2008  1649.510010  0.002669     0.002665\n",
              "13/10/2008  1844.250000  0.118059     0.111594\n",
              "14/10/2008  1779.010010 -0.035375    -0.036016"
            ]
          },
          "metadata": {},
          "execution_count": 26
        }
      ]
    },
    {
      "cell_type": "markdown",
      "metadata": {
        "id": "9eieSB68mR8h"
      },
      "source": [
        "3 price steps used (Xtrain) to predict next price (ytrain)"
      ]
    },
    {
      "cell_type": "code",
      "metadata": {
        "id": "4ylO1GBS_S3B",
        "colab": {
          "base_uri": "https://localhost:8080/"
        },
        "outputId": "349bf4f5-3d75-4076-bbf6-53ba1f2ca07a"
      },
      "source": [
        "Xtrain[0]"
      ],
      "execution_count": null,
      "outputs": [
        {
          "output_type": "execute_result",
          "data": {
            "text/plain": [
              "array([[0.79445195, 0.41617229],\n",
              "       [0.63409293, 0.18279906],\n",
              "       [0.64148688, 0.46968022]])"
            ]
          },
          "metadata": {},
          "execution_count": 27
        }
      ]
    },
    {
      "cell_type": "code",
      "metadata": {
        "id": "_7D4yJ6-_S3C",
        "colab": {
          "base_uri": "https://localhost:8080/"
        },
        "outputId": "43776e87-fd1d-4cce-81f6-e58fc7d6ac31"
      },
      "source": [
        "ytrain[0]"
      ],
      "execution_count": null,
      "outputs": [
        {
          "output_type": "execute_result",
          "data": {
            "text/plain": [
              "0.969481084650635"
            ]
          },
          "metadata": {},
          "execution_count": 28
        }
      ]
    },
    {
      "cell_type": "code",
      "metadata": {
        "id": "LU0c_iLk_S3C"
      },
      "source": [
        "val = np.array(ytrain[0])\n",
        "val = np.c_[val, np.zeros(val.shape)]"
      ],
      "execution_count": null,
      "outputs": []
    },
    {
      "cell_type": "markdown",
      "metadata": {
        "id": "ICnBsiUKuEYr"
      },
      "source": [
        "Demonstrate inverse scaler on 4th price"
      ]
    },
    {
      "cell_type": "code",
      "metadata": {
        "id": "ArG_hv-3_S3C",
        "colab": {
          "base_uri": "https://localhost:8080/"
        },
        "outputId": "bf115d65-1211-406f-a9dd-378903c10f73"
      },
      "source": [
        "scaler.inverse_transform(val)"
      ],
      "execution_count": null,
      "outputs": [
        {
          "output_type": "execute_result",
          "data": {
            "text/plain": [
              "array([[ 1.8442500e+03, -9.3808937e-02]])"
            ]
          },
          "metadata": {},
          "execution_count": 30
        }
      ]
    },
    {
      "cell_type": "markdown",
      "metadata": {
        "id": "mJqbVZ9i_S3C"
      },
      "source": [
        "The input for each LSTM layer contains:\n",
        "- The number of observations\n",
        "- The time steps\n",
        "- The features\n",
        "\n",
        "Add a temporal dimension."
      ]
    },
    {
      "cell_type": "code",
      "metadata": {
        "id": "RBeFeAlV_S3D"
      },
      "source": [
        "Xtrain, ytrain = (np.array(Xtrain), np.array(ytrain))\n",
        "Xtrain = np.reshape(Xtrain, (Xtrain.shape[0], Xtrain.shape[1], Xtrain.shape[2]))\n",
        "\n",
        "Xtest = (np.array(Xtest))\n",
        "Xtest = np.reshape(Xtest, (Xtest.shape[0], Xtest.shape[1], Xtest.shape[2]))"
      ],
      "execution_count": null,
      "outputs": []
    },
    {
      "cell_type": "code",
      "metadata": {
        "scrolled": true,
        "id": "1mABWD3I_S3D",
        "colab": {
          "base_uri": "https://localhost:8080/"
        },
        "outputId": "b2c92e41-81b7-4d4b-ab92-e89ffd93d08b"
      },
      "source": [
        "print(Xtrain.shape)\n",
        "print(ytrain.shape)\n",
        "print(\"---\")\n",
        "print(Xtest.shape)"
      ],
      "execution_count": null,
      "outputs": [
        {
          "output_type": "stream",
          "name": "stdout",
          "text": [
            "(141, 3, 2)\n",
            "(141,)\n",
            "---\n",
            "(34, 3, 2)\n"
          ]
        }
      ]
    },
    {
      "cell_type": "markdown",
      "metadata": {
        "id": "TwcxZ7UY_S3D"
      },
      "source": [
        "Keras LSTM model.  Sequential with LSTM, Dropout and Dense layers."
      ]
    },
    {
      "cell_type": "code",
      "metadata": {
        "scrolled": true,
        "id": "AKfG4Ni3_S3E",
        "colab": {
          "base_uri": "https://localhost:8080/"
        },
        "outputId": "0919f0db-2258-446d-987c-cfe0ed25fa5a"
      },
      "source": [
        "model = Sequential()\n",
        "model.add(LSTM(42, return_sequences=True, input_shape=(Xtrain.shape[1], Xtrain.shape[2])))\n",
        "model.add(LSTM(42))\n",
        "model.add(Dropout(0.1))\n",
        "model.add(Dense(1, activation='relu'))\n",
        "model.compile(loss=\"mean_squared_error\", optimizer=\"adam\")\n",
        "model.optimizer.lr = 0.0002 #(lr changed from 0.001)\n",
        "history = model.fit(\n",
        "    Xtrain, ytrain, epochs=400, validation_split=0.1, batch_size=16, verbose=1\n",
        ")"
      ],
      "execution_count": null,
      "outputs": [
        {
          "output_type": "stream",
          "name": "stdout",
          "text": [
            "Epoch 1/400\n",
            "8/8 [==============================] - 5s 136ms/step - loss: 0.2254 - val_loss: 0.4686\n",
            "Epoch 2/400\n",
            "8/8 [==============================] - 0s 9ms/step - loss: 0.2100 - val_loss: 0.4296\n",
            "Epoch 3/400\n",
            "8/8 [==============================] - 0s 9ms/step - loss: 0.1874 - val_loss: 0.3895\n",
            "Epoch 4/400\n",
            "8/8 [==============================] - 0s 11ms/step - loss: 0.1639 - val_loss: 0.3494\n",
            "Epoch 5/400\n",
            "8/8 [==============================] - 0s 9ms/step - loss: 0.1428 - val_loss: 0.3085\n",
            "Epoch 6/400\n",
            "8/8 [==============================] - 0s 9ms/step - loss: 0.1221 - val_loss: 0.2668\n",
            "Epoch 7/400\n",
            "8/8 [==============================] - 0s 11ms/step - loss: 0.1002 - val_loss: 0.2258\n",
            "Epoch 8/400\n",
            "8/8 [==============================] - 0s 9ms/step - loss: 0.0817 - val_loss: 0.1852\n",
            "Epoch 9/400\n",
            "8/8 [==============================] - 0s 9ms/step - loss: 0.0631 - val_loss: 0.1454\n",
            "Epoch 10/400\n",
            "8/8 [==============================] - 0s 10ms/step - loss: 0.0443 - val_loss: 0.1091\n",
            "Epoch 11/400\n",
            "8/8 [==============================] - 0s 9ms/step - loss: 0.0334 - val_loss: 0.0774\n",
            "Epoch 12/400\n",
            "8/8 [==============================] - 0s 10ms/step - loss: 0.0239 - val_loss: 0.0520\n",
            "Epoch 13/400\n",
            "8/8 [==============================] - 0s 9ms/step - loss: 0.0177 - val_loss: 0.0346\n",
            "Epoch 14/400\n",
            "8/8 [==============================] - 0s 10ms/step - loss: 0.0166 - val_loss: 0.0245\n",
            "Epoch 15/400\n",
            "8/8 [==============================] - 0s 9ms/step - loss: 0.0154 - val_loss: 0.0199\n",
            "Epoch 16/400\n",
            "8/8 [==============================] - 0s 10ms/step - loss: 0.0153 - val_loss: 0.0187\n",
            "Epoch 17/400\n",
            "8/8 [==============================] - 0s 10ms/step - loss: 0.0163 - val_loss: 0.0190\n",
            "Epoch 18/400\n",
            "8/8 [==============================] - 0s 9ms/step - loss: 0.0156 - val_loss: 0.0203\n",
            "Epoch 19/400\n",
            "8/8 [==============================] - 0s 9ms/step - loss: 0.0155 - val_loss: 0.0210\n",
            "Epoch 20/400\n",
            "8/8 [==============================] - 0s 9ms/step - loss: 0.0148 - val_loss: 0.0209\n",
            "Epoch 21/400\n",
            "8/8 [==============================] - 0s 10ms/step - loss: 0.0151 - val_loss: 0.0205\n",
            "Epoch 22/400\n",
            "8/8 [==============================] - 0s 12ms/step - loss: 0.0149 - val_loss: 0.0202\n",
            "Epoch 23/400\n",
            "8/8 [==============================] - 0s 10ms/step - loss: 0.0150 - val_loss: 0.0206\n",
            "Epoch 24/400\n",
            "8/8 [==============================] - 0s 12ms/step - loss: 0.0158 - val_loss: 0.0195\n",
            "Epoch 25/400\n",
            "8/8 [==============================] - 0s 9ms/step - loss: 0.0155 - val_loss: 0.0181\n",
            "Epoch 26/400\n",
            "8/8 [==============================] - 0s 9ms/step - loss: 0.0134 - val_loss: 0.0181\n",
            "Epoch 27/400\n",
            "8/8 [==============================] - 0s 13ms/step - loss: 0.0141 - val_loss: 0.0176\n",
            "Epoch 28/400\n",
            "8/8 [==============================] - 0s 10ms/step - loss: 0.0143 - val_loss: 0.0181\n",
            "Epoch 29/400\n",
            "8/8 [==============================] - 0s 9ms/step - loss: 0.0146 - val_loss: 0.0179\n",
            "Epoch 30/400\n",
            "8/8 [==============================] - 0s 9ms/step - loss: 0.0147 - val_loss: 0.0169\n",
            "Epoch 31/400\n",
            "8/8 [==============================] - 0s 12ms/step - loss: 0.0135 - val_loss: 0.0168\n",
            "Epoch 32/400\n",
            "8/8 [==============================] - 0s 10ms/step - loss: 0.0140 - val_loss: 0.0169\n",
            "Epoch 33/400\n",
            "8/8 [==============================] - 0s 9ms/step - loss: 0.0137 - val_loss: 0.0165\n",
            "Epoch 34/400\n",
            "8/8 [==============================] - 0s 10ms/step - loss: 0.0126 - val_loss: 0.0147\n",
            "Epoch 35/400\n",
            "8/8 [==============================] - 0s 9ms/step - loss: 0.0126 - val_loss: 0.0151\n",
            "Epoch 36/400\n",
            "8/8 [==============================] - 0s 9ms/step - loss: 0.0129 - val_loss: 0.0152\n",
            "Epoch 37/400\n",
            "8/8 [==============================] - 0s 11ms/step - loss: 0.0117 - val_loss: 0.0150\n",
            "Epoch 38/400\n",
            "8/8 [==============================] - 0s 9ms/step - loss: 0.0129 - val_loss: 0.0152\n",
            "Epoch 39/400\n",
            "8/8 [==============================] - 0s 9ms/step - loss: 0.0128 - val_loss: 0.0142\n",
            "Epoch 40/400\n",
            "8/8 [==============================] - 0s 10ms/step - loss: 0.0132 - val_loss: 0.0134\n",
            "Epoch 41/400\n",
            "8/8 [==============================] - 0s 9ms/step - loss: 0.0117 - val_loss: 0.0135\n",
            "Epoch 42/400\n",
            "8/8 [==============================] - 0s 9ms/step - loss: 0.0128 - val_loss: 0.0133\n",
            "Epoch 43/400\n",
            "8/8 [==============================] - 0s 9ms/step - loss: 0.0120 - val_loss: 0.0135\n",
            "Epoch 44/400\n",
            "8/8 [==============================] - 0s 10ms/step - loss: 0.0120 - val_loss: 0.0135\n",
            "Epoch 45/400\n",
            "8/8 [==============================] - 0s 9ms/step - loss: 0.0115 - val_loss: 0.0129\n",
            "Epoch 46/400\n",
            "8/8 [==============================] - 0s 9ms/step - loss: 0.0119 - val_loss: 0.0119\n",
            "Epoch 47/400\n",
            "8/8 [==============================] - 0s 12ms/step - loss: 0.0117 - val_loss: 0.0110\n",
            "Epoch 48/400\n",
            "8/8 [==============================] - 0s 9ms/step - loss: 0.0113 - val_loss: 0.0116\n",
            "Epoch 49/400\n",
            "8/8 [==============================] - 0s 9ms/step - loss: 0.0122 - val_loss: 0.0116\n",
            "Epoch 50/400\n",
            "8/8 [==============================] - 0s 12ms/step - loss: 0.0120 - val_loss: 0.0121\n",
            "Epoch 51/400\n",
            "8/8 [==============================] - 0s 9ms/step - loss: 0.0116 - val_loss: 0.0108\n",
            "Epoch 52/400\n",
            "8/8 [==============================] - 0s 9ms/step - loss: 0.0117 - val_loss: 0.0099\n",
            "Epoch 53/400\n",
            "8/8 [==============================] - 0s 10ms/step - loss: 0.0112 - val_loss: 0.0100\n",
            "Epoch 54/400\n",
            "8/8 [==============================] - 0s 9ms/step - loss: 0.0113 - val_loss: 0.0099\n",
            "Epoch 55/400\n",
            "8/8 [==============================] - 0s 9ms/step - loss: 0.0120 - val_loss: 0.0100\n",
            "Epoch 56/400\n",
            "8/8 [==============================] - 0s 10ms/step - loss: 0.0117 - val_loss: 0.0097\n",
            "Epoch 57/400\n",
            "8/8 [==============================] - 0s 9ms/step - loss: 0.0106 - val_loss: 0.0093\n",
            "Epoch 58/400\n",
            "8/8 [==============================] - 0s 9ms/step - loss: 0.0113 - val_loss: 0.0102\n",
            "Epoch 59/400\n",
            "8/8 [==============================] - 0s 12ms/step - loss: 0.0115 - val_loss: 0.0087\n",
            "Epoch 60/400\n",
            "8/8 [==============================] - 0s 10ms/step - loss: 0.0121 - val_loss: 0.0076\n",
            "Epoch 61/400\n",
            "8/8 [==============================] - 0s 9ms/step - loss: 0.0112 - val_loss: 0.0082\n",
            "Epoch 62/400\n",
            "8/8 [==============================] - 0s 12ms/step - loss: 0.0111 - val_loss: 0.0092\n",
            "Epoch 63/400\n",
            "8/8 [==============================] - 0s 9ms/step - loss: 0.0112 - val_loss: 0.0088\n",
            "Epoch 64/400\n",
            "8/8 [==============================] - 0s 10ms/step - loss: 0.0108 - val_loss: 0.0075\n",
            "Epoch 65/400\n",
            "8/8 [==============================] - 0s 9ms/step - loss: 0.0117 - val_loss: 0.0087\n",
            "Epoch 66/400\n",
            "8/8 [==============================] - 0s 11ms/step - loss: 0.0116 - val_loss: 0.0079\n",
            "Epoch 67/400\n",
            "8/8 [==============================] - 0s 10ms/step - loss: 0.0109 - val_loss: 0.0081\n",
            "Epoch 68/400\n",
            "8/8 [==============================] - 0s 12ms/step - loss: 0.0109 - val_loss: 0.0083\n",
            "Epoch 69/400\n",
            "8/8 [==============================] - 0s 9ms/step - loss: 0.0107 - val_loss: 0.0077\n",
            "Epoch 70/400\n",
            "8/8 [==============================] - 0s 11ms/step - loss: 0.0110 - val_loss: 0.0081\n",
            "Epoch 71/400\n",
            "8/8 [==============================] - 0s 10ms/step - loss: 0.0102 - val_loss: 0.0074\n",
            "Epoch 72/400\n",
            "8/8 [==============================] - 0s 9ms/step - loss: 0.0109 - val_loss: 0.0068\n",
            "Epoch 73/400\n",
            "8/8 [==============================] - 0s 11ms/step - loss: 0.0115 - val_loss: 0.0065\n",
            "Epoch 74/400\n",
            "8/8 [==============================] - 0s 11ms/step - loss: 0.0106 - val_loss: 0.0064\n",
            "Epoch 75/400\n",
            "8/8 [==============================] - 0s 9ms/step - loss: 0.0116 - val_loss: 0.0067\n",
            "Epoch 76/400\n",
            "8/8 [==============================] - 0s 10ms/step - loss: 0.0112 - val_loss: 0.0062\n",
            "Epoch 77/400\n",
            "8/8 [==============================] - 0s 10ms/step - loss: 0.0108 - val_loss: 0.0066\n",
            "Epoch 78/400\n",
            "8/8 [==============================] - 0s 9ms/step - loss: 0.0119 - val_loss: 0.0071\n",
            "Epoch 79/400\n",
            "8/8 [==============================] - 0s 10ms/step - loss: 0.0106 - val_loss: 0.0066\n",
            "Epoch 80/400\n",
            "8/8 [==============================] - 0s 12ms/step - loss: 0.0107 - val_loss: 0.0068\n",
            "Epoch 81/400\n",
            "8/8 [==============================] - 0s 9ms/step - loss: 0.0119 - val_loss: 0.0072\n",
            "Epoch 82/400\n",
            "8/8 [==============================] - 0s 10ms/step - loss: 0.0100 - val_loss: 0.0074\n",
            "Epoch 83/400\n",
            "8/8 [==============================] - 0s 13ms/step - loss: 0.0111 - val_loss: 0.0060\n",
            "Epoch 84/400\n",
            "8/8 [==============================] - 0s 9ms/step - loss: 0.0103 - val_loss: 0.0057\n",
            "Epoch 85/400\n",
            "8/8 [==============================] - 0s 11ms/step - loss: 0.0107 - val_loss: 0.0057\n",
            "Epoch 86/400\n",
            "8/8 [==============================] - 0s 11ms/step - loss: 0.0100 - val_loss: 0.0062\n",
            "Epoch 87/400\n",
            "8/8 [==============================] - 0s 10ms/step - loss: 0.0109 - val_loss: 0.0060\n",
            "Epoch 88/400\n",
            "8/8 [==============================] - 0s 10ms/step - loss: 0.0119 - val_loss: 0.0059\n",
            "Epoch 89/400\n",
            "8/8 [==============================] - 0s 11ms/step - loss: 0.0108 - val_loss: 0.0066\n",
            "Epoch 90/400\n",
            "8/8 [==============================] - 0s 12ms/step - loss: 0.0110 - val_loss: 0.0072\n",
            "Epoch 91/400\n",
            "8/8 [==============================] - 0s 12ms/step - loss: 0.0108 - val_loss: 0.0076\n",
            "Epoch 92/400\n",
            "8/8 [==============================] - 0s 10ms/step - loss: 0.0110 - val_loss: 0.0056\n",
            "Epoch 93/400\n",
            "8/8 [==============================] - 0s 10ms/step - loss: 0.0123 - val_loss: 0.0067\n",
            "Epoch 94/400\n",
            "8/8 [==============================] - 0s 11ms/step - loss: 0.0110 - val_loss: 0.0070\n",
            "Epoch 95/400\n",
            "8/8 [==============================] - 0s 10ms/step - loss: 0.0108 - val_loss: 0.0061\n",
            "Epoch 96/400\n",
            "8/8 [==============================] - 0s 10ms/step - loss: 0.0102 - val_loss: 0.0066\n",
            "Epoch 97/400\n",
            "8/8 [==============================] - 0s 13ms/step - loss: 0.0100 - val_loss: 0.0062\n",
            "Epoch 98/400\n",
            "8/8 [==============================] - 0s 10ms/step - loss: 0.0094 - val_loss: 0.0048\n",
            "Epoch 99/400\n",
            "8/8 [==============================] - 0s 9ms/step - loss: 0.0101 - val_loss: 0.0044\n",
            "Epoch 100/400\n",
            "8/8 [==============================] - 0s 12ms/step - loss: 0.0101 - val_loss: 0.0048\n",
            "Epoch 101/400\n",
            "8/8 [==============================] - 0s 11ms/step - loss: 0.0108 - val_loss: 0.0054\n",
            "Epoch 102/400\n",
            "8/8 [==============================] - 0s 10ms/step - loss: 0.0109 - val_loss: 0.0053\n",
            "Epoch 103/400\n",
            "8/8 [==============================] - 0s 10ms/step - loss: 0.0109 - val_loss: 0.0055\n",
            "Epoch 104/400\n",
            "8/8 [==============================] - 0s 10ms/step - loss: 0.0110 - val_loss: 0.0052\n",
            "Epoch 105/400\n",
            "8/8 [==============================] - 0s 11ms/step - loss: 0.0105 - val_loss: 0.0047\n",
            "Epoch 106/400\n",
            "8/8 [==============================] - 0s 10ms/step - loss: 0.0097 - val_loss: 0.0051\n",
            "Epoch 107/400\n",
            "8/8 [==============================] - 0s 12ms/step - loss: 0.0104 - val_loss: 0.0056\n",
            "Epoch 108/400\n",
            "8/8 [==============================] - 0s 10ms/step - loss: 0.0113 - val_loss: 0.0051\n",
            "Epoch 109/400\n",
            "8/8 [==============================] - 0s 12ms/step - loss: 0.0089 - val_loss: 0.0054\n",
            "Epoch 110/400\n",
            "8/8 [==============================] - 0s 12ms/step - loss: 0.0107 - val_loss: 0.0056\n",
            "Epoch 111/400\n",
            "8/8 [==============================] - 0s 12ms/step - loss: 0.0107 - val_loss: 0.0048\n",
            "Epoch 112/400\n",
            "8/8 [==============================] - 0s 10ms/step - loss: 0.0108 - val_loss: 0.0054\n",
            "Epoch 113/400\n",
            "8/8 [==============================] - 0s 12ms/step - loss: 0.0099 - val_loss: 0.0064\n",
            "Epoch 114/400\n",
            "8/8 [==============================] - 0s 10ms/step - loss: 0.0097 - val_loss: 0.0051\n",
            "Epoch 115/400\n",
            "8/8 [==============================] - 0s 12ms/step - loss: 0.0095 - val_loss: 0.0045\n",
            "Epoch 116/400\n",
            "8/8 [==============================] - 0s 11ms/step - loss: 0.0103 - val_loss: 0.0056\n",
            "Epoch 117/400\n",
            "8/8 [==============================] - 0s 9ms/step - loss: 0.0106 - val_loss: 0.0060\n",
            "Epoch 118/400\n",
            "8/8 [==============================] - 0s 10ms/step - loss: 0.0098 - val_loss: 0.0055\n",
            "Epoch 119/400\n",
            "8/8 [==============================] - 0s 11ms/step - loss: 0.0100 - val_loss: 0.0055\n",
            "Epoch 120/400\n",
            "8/8 [==============================] - 0s 12ms/step - loss: 0.0097 - val_loss: 0.0049\n",
            "Epoch 121/400\n",
            "8/8 [==============================] - 0s 9ms/step - loss: 0.0103 - val_loss: 0.0057\n",
            "Epoch 122/400\n",
            "8/8 [==============================] - 0s 11ms/step - loss: 0.0101 - val_loss: 0.0051\n",
            "Epoch 123/400\n",
            "8/8 [==============================] - 0s 11ms/step - loss: 0.0096 - val_loss: 0.0050\n",
            "Epoch 124/400\n",
            "8/8 [==============================] - 0s 14ms/step - loss: 0.0099 - val_loss: 0.0060\n",
            "Epoch 125/400\n",
            "8/8 [==============================] - 0s 10ms/step - loss: 0.0104 - val_loss: 0.0061\n",
            "Epoch 126/400\n",
            "8/8 [==============================] - 0s 11ms/step - loss: 0.0103 - val_loss: 0.0057\n",
            "Epoch 127/400\n",
            "8/8 [==============================] - 0s 12ms/step - loss: 0.0108 - val_loss: 0.0059\n",
            "Epoch 128/400\n",
            "8/8 [==============================] - 0s 10ms/step - loss: 0.0102 - val_loss: 0.0058\n",
            "Epoch 129/400\n",
            "8/8 [==============================] - 0s 10ms/step - loss: 0.0100 - val_loss: 0.0054\n",
            "Epoch 130/400\n",
            "8/8 [==============================] - 0s 9ms/step - loss: 0.0097 - val_loss: 0.0042\n",
            "Epoch 131/400\n",
            "8/8 [==============================] - 0s 11ms/step - loss: 0.0104 - val_loss: 0.0044\n",
            "Epoch 132/400\n",
            "8/8 [==============================] - 0s 10ms/step - loss: 0.0101 - val_loss: 0.0065\n",
            "Epoch 133/400\n",
            "8/8 [==============================] - 0s 10ms/step - loss: 0.0103 - val_loss: 0.0061\n",
            "Epoch 134/400\n",
            "8/8 [==============================] - 0s 10ms/step - loss: 0.0108 - val_loss: 0.0042\n",
            "Epoch 135/400\n",
            "8/8 [==============================] - 0s 13ms/step - loss: 0.0100 - val_loss: 0.0048\n",
            "Epoch 136/400\n",
            "8/8 [==============================] - 0s 9ms/step - loss: 0.0103 - val_loss: 0.0050\n",
            "Epoch 137/400\n",
            "8/8 [==============================] - 0s 12ms/step - loss: 0.0109 - val_loss: 0.0050\n",
            "Epoch 138/400\n",
            "8/8 [==============================] - 0s 11ms/step - loss: 0.0102 - val_loss: 0.0054\n",
            "Epoch 139/400\n",
            "8/8 [==============================] - 0s 9ms/step - loss: 0.0095 - val_loss: 0.0050\n",
            "Epoch 140/400\n",
            "8/8 [==============================] - 0s 10ms/step - loss: 0.0105 - val_loss: 0.0035\n",
            "Epoch 141/400\n",
            "8/8 [==============================] - 0s 11ms/step - loss: 0.0110 - val_loss: 0.0049\n",
            "Epoch 142/400\n",
            "8/8 [==============================] - 0s 10ms/step - loss: 0.0103 - val_loss: 0.0053\n",
            "Epoch 143/400\n",
            "8/8 [==============================] - 0s 12ms/step - loss: 0.0105 - val_loss: 0.0055\n",
            "Epoch 144/400\n",
            "8/8 [==============================] - 0s 11ms/step - loss: 0.0105 - val_loss: 0.0045\n",
            "Epoch 145/400\n",
            "8/8 [==============================] - 0s 13ms/step - loss: 0.0099 - val_loss: 0.0051\n",
            "Epoch 146/400\n",
            "8/8 [==============================] - 0s 9ms/step - loss: 0.0098 - val_loss: 0.0051\n",
            "Epoch 147/400\n",
            "8/8 [==============================] - 0s 10ms/step - loss: 0.0100 - val_loss: 0.0053\n",
            "Epoch 148/400\n",
            "8/8 [==============================] - 0s 11ms/step - loss: 0.0106 - val_loss: 0.0050\n",
            "Epoch 149/400\n",
            "8/8 [==============================] - 0s 11ms/step - loss: 0.0099 - val_loss: 0.0056\n",
            "Epoch 150/400\n",
            "8/8 [==============================] - 0s 12ms/step - loss: 0.0094 - val_loss: 0.0061\n",
            "Epoch 151/400\n",
            "8/8 [==============================] - 0s 12ms/step - loss: 0.0098 - val_loss: 0.0046\n",
            "Epoch 152/400\n",
            "8/8 [==============================] - 0s 10ms/step - loss: 0.0099 - val_loss: 0.0041\n",
            "Epoch 153/400\n",
            "8/8 [==============================] - 0s 10ms/step - loss: 0.0103 - val_loss: 0.0055\n",
            "Epoch 154/400\n",
            "8/8 [==============================] - 0s 12ms/step - loss: 0.0097 - val_loss: 0.0056\n",
            "Epoch 155/400\n",
            "8/8 [==============================] - 0s 10ms/step - loss: 0.0102 - val_loss: 0.0050\n",
            "Epoch 156/400\n",
            "8/8 [==============================] - 0s 11ms/step - loss: 0.0104 - val_loss: 0.0041\n",
            "Epoch 157/400\n",
            "8/8 [==============================] - 0s 10ms/step - loss: 0.0091 - val_loss: 0.0045\n",
            "Epoch 158/400\n",
            "8/8 [==============================] - 0s 10ms/step - loss: 0.0101 - val_loss: 0.0048\n",
            "Epoch 159/400\n",
            "8/8 [==============================] - 0s 13ms/step - loss: 0.0105 - val_loss: 0.0051\n",
            "Epoch 160/400\n",
            "8/8 [==============================] - 0s 12ms/step - loss: 0.0121 - val_loss: 0.0056\n",
            "Epoch 161/400\n",
            "8/8 [==============================] - 0s 10ms/step - loss: 0.0094 - val_loss: 0.0054\n",
            "Epoch 162/400\n",
            "8/8 [==============================] - 0s 13ms/step - loss: 0.0099 - val_loss: 0.0044\n",
            "Epoch 163/400\n",
            "8/8 [==============================] - 0s 10ms/step - loss: 0.0104 - val_loss: 0.0039\n",
            "Epoch 164/400\n",
            "8/8 [==============================] - 0s 9ms/step - loss: 0.0106 - val_loss: 0.0051\n",
            "Epoch 165/400\n",
            "8/8 [==============================] - 0s 12ms/step - loss: 0.0103 - val_loss: 0.0053\n",
            "Epoch 166/400\n",
            "8/8 [==============================] - 0s 10ms/step - loss: 0.0095 - val_loss: 0.0046\n",
            "Epoch 167/400\n",
            "8/8 [==============================] - 0s 11ms/step - loss: 0.0090 - val_loss: 0.0047\n",
            "Epoch 168/400\n",
            "8/8 [==============================] - 0s 10ms/step - loss: 0.0095 - val_loss: 0.0052\n",
            "Epoch 169/400\n",
            "8/8 [==============================] - 0s 9ms/step - loss: 0.0099 - val_loss: 0.0043\n",
            "Epoch 170/400\n",
            "8/8 [==============================] - 0s 10ms/step - loss: 0.0100 - val_loss: 0.0052\n",
            "Epoch 171/400\n",
            "8/8 [==============================] - 0s 12ms/step - loss: 0.0098 - val_loss: 0.0049\n",
            "Epoch 172/400\n",
            "8/8 [==============================] - 0s 12ms/step - loss: 0.0099 - val_loss: 0.0046\n",
            "Epoch 173/400\n",
            "8/8 [==============================] - 0s 12ms/step - loss: 0.0102 - val_loss: 0.0053\n",
            "Epoch 174/400\n",
            "8/8 [==============================] - 0s 13ms/step - loss: 0.0099 - val_loss: 0.0056\n",
            "Epoch 175/400\n",
            "8/8 [==============================] - 0s 10ms/step - loss: 0.0102 - val_loss: 0.0054\n",
            "Epoch 176/400\n",
            "8/8 [==============================] - 0s 12ms/step - loss: 0.0098 - val_loss: 0.0051\n",
            "Epoch 177/400\n",
            "8/8 [==============================] - 0s 12ms/step - loss: 0.0094 - val_loss: 0.0040\n",
            "Epoch 178/400\n",
            "8/8 [==============================] - 0s 12ms/step - loss: 0.0099 - val_loss: 0.0046\n",
            "Epoch 179/400\n",
            "8/8 [==============================] - 0s 12ms/step - loss: 0.0109 - val_loss: 0.0057\n",
            "Epoch 180/400\n",
            "8/8 [==============================] - 0s 12ms/step - loss: 0.0101 - val_loss: 0.0050\n",
            "Epoch 181/400\n",
            "8/8 [==============================] - 0s 10ms/step - loss: 0.0094 - val_loss: 0.0041\n",
            "Epoch 182/400\n",
            "8/8 [==============================] - 0s 9ms/step - loss: 0.0105 - val_loss: 0.0050\n",
            "Epoch 183/400\n",
            "8/8 [==============================] - 0s 10ms/step - loss: 0.0095 - val_loss: 0.0046\n",
            "Epoch 184/400\n",
            "8/8 [==============================] - 0s 10ms/step - loss: 0.0100 - val_loss: 0.0048\n",
            "Epoch 185/400\n",
            "8/8 [==============================] - 0s 9ms/step - loss: 0.0103 - val_loss: 0.0046\n",
            "Epoch 186/400\n",
            "8/8 [==============================] - 0s 11ms/step - loss: 0.0098 - val_loss: 0.0045\n",
            "Epoch 187/400\n",
            "8/8 [==============================] - 0s 12ms/step - loss: 0.0095 - val_loss: 0.0053\n",
            "Epoch 188/400\n",
            "8/8 [==============================] - 0s 9ms/step - loss: 0.0094 - val_loss: 0.0052\n",
            "Epoch 189/400\n",
            "8/8 [==============================] - 0s 10ms/step - loss: 0.0102 - val_loss: 0.0037\n",
            "Epoch 190/400\n",
            "8/8 [==============================] - 0s 12ms/step - loss: 0.0095 - val_loss: 0.0039\n",
            "Epoch 191/400\n",
            "8/8 [==============================] - 0s 14ms/step - loss: 0.0097 - val_loss: 0.0041\n",
            "Epoch 192/400\n",
            "8/8 [==============================] - 0s 10ms/step - loss: 0.0092 - val_loss: 0.0056\n",
            "Epoch 193/400\n",
            "8/8 [==============================] - 0s 10ms/step - loss: 0.0096 - val_loss: 0.0053\n",
            "Epoch 194/400\n",
            "8/8 [==============================] - 0s 9ms/step - loss: 0.0096 - val_loss: 0.0041\n",
            "Epoch 195/400\n",
            "8/8 [==============================] - 0s 9ms/step - loss: 0.0101 - val_loss: 0.0055\n",
            "Epoch 196/400\n",
            "8/8 [==============================] - 0s 10ms/step - loss: 0.0102 - val_loss: 0.0044\n",
            "Epoch 197/400\n",
            "8/8 [==============================] - 0s 9ms/step - loss: 0.0100 - val_loss: 0.0034\n",
            "Epoch 198/400\n",
            "8/8 [==============================] - 0s 10ms/step - loss: 0.0101 - val_loss: 0.0041\n",
            "Epoch 199/400\n",
            "8/8 [==============================] - 0s 13ms/step - loss: 0.0094 - val_loss: 0.0055\n",
            "Epoch 200/400\n",
            "8/8 [==============================] - 0s 10ms/step - loss: 0.0095 - val_loss: 0.0055\n",
            "Epoch 201/400\n",
            "8/8 [==============================] - 0s 10ms/step - loss: 0.0097 - val_loss: 0.0045\n",
            "Epoch 202/400\n",
            "8/8 [==============================] - 0s 10ms/step - loss: 0.0095 - val_loss: 0.0038\n",
            "Epoch 203/400\n",
            "8/8 [==============================] - 0s 9ms/step - loss: 0.0107 - val_loss: 0.0045\n",
            "Epoch 204/400\n",
            "8/8 [==============================] - 0s 10ms/step - loss: 0.0095 - val_loss: 0.0053\n",
            "Epoch 205/400\n",
            "8/8 [==============================] - 0s 10ms/step - loss: 0.0098 - val_loss: 0.0058\n",
            "Epoch 206/400\n",
            "8/8 [==============================] - 0s 9ms/step - loss: 0.0105 - val_loss: 0.0048\n",
            "Epoch 207/400\n",
            "8/8 [==============================] - 0s 9ms/step - loss: 0.0091 - val_loss: 0.0037\n",
            "Epoch 208/400\n",
            "8/8 [==============================] - 0s 9ms/step - loss: 0.0088 - val_loss: 0.0041\n",
            "Epoch 209/400\n",
            "8/8 [==============================] - 0s 9ms/step - loss: 0.0097 - val_loss: 0.0068\n",
            "Epoch 210/400\n",
            "8/8 [==============================] - 0s 9ms/step - loss: 0.0100 - val_loss: 0.0057\n",
            "Epoch 211/400\n",
            "8/8 [==============================] - 0s 12ms/step - loss: 0.0104 - val_loss: 0.0041\n",
            "Epoch 212/400\n",
            "8/8 [==============================] - 0s 9ms/step - loss: 0.0106 - val_loss: 0.0041\n",
            "Epoch 213/400\n",
            "8/8 [==============================] - 0s 9ms/step - loss: 0.0095 - val_loss: 0.0051\n",
            "Epoch 214/400\n",
            "8/8 [==============================] - 0s 11ms/step - loss: 0.0100 - val_loss: 0.0053\n",
            "Epoch 215/400\n",
            "8/8 [==============================] - 0s 9ms/step - loss: 0.0093 - val_loss: 0.0046\n",
            "Epoch 216/400\n",
            "8/8 [==============================] - 0s 9ms/step - loss: 0.0095 - val_loss: 0.0045\n",
            "Epoch 217/400\n",
            "8/8 [==============================] - 0s 10ms/step - loss: 0.0096 - val_loss: 0.0050\n",
            "Epoch 218/400\n",
            "8/8 [==============================] - 0s 11ms/step - loss: 0.0095 - val_loss: 0.0050\n",
            "Epoch 219/400\n",
            "8/8 [==============================] - 0s 9ms/step - loss: 0.0099 - val_loss: 0.0043\n",
            "Epoch 220/400\n",
            "8/8 [==============================] - 0s 9ms/step - loss: 0.0105 - val_loss: 0.0042\n",
            "Epoch 221/400\n",
            "8/8 [==============================] - 0s 11ms/step - loss: 0.0095 - val_loss: 0.0047\n",
            "Epoch 222/400\n",
            "8/8 [==============================] - 0s 9ms/step - loss: 0.0089 - val_loss: 0.0054\n",
            "Epoch 223/400\n",
            "8/8 [==============================] - 0s 10ms/step - loss: 0.0097 - val_loss: 0.0051\n",
            "Epoch 224/400\n",
            "8/8 [==============================] - 0s 13ms/step - loss: 0.0088 - val_loss: 0.0047\n",
            "Epoch 225/400\n",
            "8/8 [==============================] - 0s 11ms/step - loss: 0.0094 - val_loss: 0.0048\n",
            "Epoch 226/400\n",
            "8/8 [==============================] - 0s 10ms/step - loss: 0.0094 - val_loss: 0.0043\n",
            "Epoch 227/400\n",
            "8/8 [==============================] - 0s 12ms/step - loss: 0.0105 - val_loss: 0.0057\n",
            "Epoch 228/400\n",
            "8/8 [==============================] - 0s 10ms/step - loss: 0.0100 - val_loss: 0.0049\n",
            "Epoch 229/400\n",
            "8/8 [==============================] - 0s 9ms/step - loss: 0.0097 - val_loss: 0.0043\n",
            "Epoch 230/400\n",
            "8/8 [==============================] - 0s 9ms/step - loss: 0.0097 - val_loss: 0.0040\n",
            "Epoch 231/400\n",
            "8/8 [==============================] - 0s 9ms/step - loss: 0.0088 - val_loss: 0.0048\n",
            "Epoch 232/400\n",
            "8/8 [==============================] - 0s 11ms/step - loss: 0.0093 - val_loss: 0.0049\n",
            "Epoch 233/400\n",
            "8/8 [==============================] - 0s 11ms/step - loss: 0.0098 - val_loss: 0.0038\n",
            "Epoch 234/400\n",
            "8/8 [==============================] - 0s 10ms/step - loss: 0.0086 - val_loss: 0.0041\n",
            "Epoch 235/400\n",
            "8/8 [==============================] - 0s 10ms/step - loss: 0.0086 - val_loss: 0.0046\n",
            "Epoch 236/400\n",
            "8/8 [==============================] - 0s 10ms/step - loss: 0.0105 - val_loss: 0.0057\n",
            "Epoch 237/400\n",
            "8/8 [==============================] - 0s 10ms/step - loss: 0.0094 - val_loss: 0.0042\n",
            "Epoch 238/400\n",
            "8/8 [==============================] - 0s 9ms/step - loss: 0.0103 - val_loss: 0.0040\n",
            "Epoch 239/400\n",
            "8/8 [==============================] - 0s 13ms/step - loss: 0.0095 - val_loss: 0.0037\n",
            "Epoch 240/400\n",
            "8/8 [==============================] - 0s 9ms/step - loss: 0.0087 - val_loss: 0.0044\n",
            "Epoch 241/400\n",
            "8/8 [==============================] - 0s 9ms/step - loss: 0.0093 - val_loss: 0.0040\n",
            "Epoch 242/400\n",
            "8/8 [==============================] - 0s 11ms/step - loss: 0.0098 - val_loss: 0.0039\n",
            "Epoch 243/400\n",
            "8/8 [==============================] - 0s 10ms/step - loss: 0.0090 - val_loss: 0.0050\n",
            "Epoch 244/400\n",
            "8/8 [==============================] - 0s 16ms/step - loss: 0.0091 - val_loss: 0.0052\n",
            "Epoch 245/400\n",
            "8/8 [==============================] - 0s 16ms/step - loss: 0.0093 - val_loss: 0.0041\n",
            "Epoch 246/400\n",
            "8/8 [==============================] - 0s 20ms/step - loss: 0.0088 - val_loss: 0.0037\n",
            "Epoch 247/400\n",
            "8/8 [==============================] - 0s 18ms/step - loss: 0.0101 - val_loss: 0.0038\n",
            "Epoch 248/400\n",
            "8/8 [==============================] - 0s 17ms/step - loss: 0.0086 - val_loss: 0.0053\n",
            "Epoch 249/400\n",
            "8/8 [==============================] - 0s 15ms/step - loss: 0.0092 - val_loss: 0.0051\n",
            "Epoch 250/400\n",
            "8/8 [==============================] - 0s 14ms/step - loss: 0.0090 - val_loss: 0.0054\n",
            "Epoch 251/400\n",
            "8/8 [==============================] - 0s 16ms/step - loss: 0.0084 - val_loss: 0.0033\n",
            "Epoch 252/400\n",
            "8/8 [==============================] - 0s 18ms/step - loss: 0.0085 - val_loss: 0.0049\n",
            "Epoch 253/400\n",
            "8/8 [==============================] - 0s 17ms/step - loss: 0.0089 - val_loss: 0.0055\n",
            "Epoch 254/400\n",
            "8/8 [==============================] - 0s 24ms/step - loss: 0.0092 - val_loss: 0.0042\n",
            "Epoch 255/400\n",
            "8/8 [==============================] - 0s 27ms/step - loss: 0.0091 - val_loss: 0.0030\n",
            "Epoch 256/400\n",
            "8/8 [==============================] - 0s 19ms/step - loss: 0.0089 - val_loss: 0.0040\n",
            "Epoch 257/400\n",
            "8/8 [==============================] - 0s 21ms/step - loss: 0.0084 - val_loss: 0.0050\n",
            "Epoch 258/400\n",
            "8/8 [==============================] - 0s 20ms/step - loss: 0.0098 - val_loss: 0.0046\n",
            "Epoch 259/400\n",
            "8/8 [==============================] - 0s 20ms/step - loss: 0.0092 - val_loss: 0.0044\n",
            "Epoch 260/400\n",
            "8/8 [==============================] - 0s 18ms/step - loss: 0.0095 - val_loss: 0.0039\n",
            "Epoch 261/400\n",
            "8/8 [==============================] - 0s 25ms/step - loss: 0.0094 - val_loss: 0.0041\n",
            "Epoch 262/400\n",
            "8/8 [==============================] - 0s 15ms/step - loss: 0.0101 - val_loss: 0.0039\n",
            "Epoch 263/400\n",
            "8/8 [==============================] - 0s 18ms/step - loss: 0.0094 - val_loss: 0.0041\n",
            "Epoch 264/400\n",
            "8/8 [==============================] - 0s 21ms/step - loss: 0.0085 - val_loss: 0.0046\n",
            "Epoch 265/400\n",
            "8/8 [==============================] - 0s 16ms/step - loss: 0.0087 - val_loss: 0.0042\n",
            "Epoch 266/400\n",
            "8/8 [==============================] - 0s 27ms/step - loss: 0.0098 - val_loss: 0.0036\n",
            "Epoch 267/400\n",
            "8/8 [==============================] - 0s 29ms/step - loss: 0.0092 - val_loss: 0.0035\n",
            "Epoch 268/400\n",
            "8/8 [==============================] - 0s 24ms/step - loss: 0.0089 - val_loss: 0.0049\n",
            "Epoch 269/400\n",
            "8/8 [==============================] - 0s 24ms/step - loss: 0.0088 - val_loss: 0.0042\n",
            "Epoch 270/400\n",
            "8/8 [==============================] - 0s 18ms/step - loss: 0.0098 - val_loss: 0.0037\n",
            "Epoch 271/400\n",
            "8/8 [==============================] - 0s 16ms/step - loss: 0.0086 - val_loss: 0.0044\n",
            "Epoch 272/400\n",
            "8/8 [==============================] - 0s 28ms/step - loss: 0.0092 - val_loss: 0.0046\n",
            "Epoch 273/400\n",
            "8/8 [==============================] - 0s 25ms/step - loss: 0.0092 - val_loss: 0.0042\n",
            "Epoch 274/400\n",
            "8/8 [==============================] - 0s 15ms/step - loss: 0.0090 - val_loss: 0.0040\n",
            "Epoch 275/400\n",
            "8/8 [==============================] - 0s 29ms/step - loss: 0.0092 - val_loss: 0.0048\n",
            "Epoch 276/400\n",
            "8/8 [==============================] - 0s 21ms/step - loss: 0.0087 - val_loss: 0.0042\n",
            "Epoch 277/400\n",
            "8/8 [==============================] - 0s 19ms/step - loss: 0.0084 - val_loss: 0.0038\n",
            "Epoch 278/400\n",
            "8/8 [==============================] - 0s 29ms/step - loss: 0.0092 - val_loss: 0.0043\n",
            "Epoch 279/400\n",
            "8/8 [==============================] - 0s 20ms/step - loss: 0.0086 - val_loss: 0.0041\n",
            "Epoch 280/400\n",
            "8/8 [==============================] - 0s 15ms/step - loss: 0.0088 - val_loss: 0.0034\n",
            "Epoch 281/400\n",
            "8/8 [==============================] - 0s 21ms/step - loss: 0.0091 - val_loss: 0.0039\n",
            "Epoch 282/400\n",
            "8/8 [==============================] - 0s 27ms/step - loss: 0.0084 - val_loss: 0.0043\n",
            "Epoch 283/400\n",
            "8/8 [==============================] - 0s 24ms/step - loss: 0.0091 - val_loss: 0.0045\n",
            "Epoch 284/400\n",
            "8/8 [==============================] - 0s 27ms/step - loss: 0.0090 - val_loss: 0.0036\n",
            "Epoch 285/400\n",
            "8/8 [==============================] - 0s 19ms/step - loss: 0.0087 - val_loss: 0.0045\n",
            "Epoch 286/400\n",
            "8/8 [==============================] - 0s 13ms/step - loss: 0.0085 - val_loss: 0.0046\n",
            "Epoch 287/400\n",
            "8/8 [==============================] - 0s 18ms/step - loss: 0.0090 - val_loss: 0.0046\n",
            "Epoch 288/400\n",
            "8/8 [==============================] - 0s 24ms/step - loss: 0.0089 - val_loss: 0.0044\n",
            "Epoch 289/400\n",
            "8/8 [==============================] - 0s 27ms/step - loss: 0.0096 - val_loss: 0.0029\n",
            "Epoch 290/400\n",
            "8/8 [==============================] - 0s 25ms/step - loss: 0.0082 - val_loss: 0.0040\n",
            "Epoch 291/400\n",
            "8/8 [==============================] - 0s 14ms/step - loss: 0.0088 - val_loss: 0.0037\n",
            "Epoch 292/400\n",
            "8/8 [==============================] - 0s 19ms/step - loss: 0.0093 - val_loss: 0.0046\n",
            "Epoch 293/400\n",
            "8/8 [==============================] - 0s 22ms/step - loss: 0.0094 - val_loss: 0.0050\n",
            "Epoch 294/400\n",
            "8/8 [==============================] - 0s 21ms/step - loss: 0.0093 - val_loss: 0.0038\n",
            "Epoch 295/400\n",
            "8/8 [==============================] - 0s 19ms/step - loss: 0.0085 - val_loss: 0.0046\n",
            "Epoch 296/400\n",
            "8/8 [==============================] - 0s 15ms/step - loss: 0.0089 - val_loss: 0.0045\n",
            "Epoch 297/400\n",
            "8/8 [==============================] - 0s 18ms/step - loss: 0.0091 - val_loss: 0.0034\n",
            "Epoch 298/400\n",
            "8/8 [==============================] - 0s 15ms/step - loss: 0.0087 - val_loss: 0.0042\n",
            "Epoch 299/400\n",
            "8/8 [==============================] - 0s 14ms/step - loss: 0.0084 - val_loss: 0.0036\n",
            "Epoch 300/400\n",
            "8/8 [==============================] - 0s 15ms/step - loss: 0.0085 - val_loss: 0.0043\n",
            "Epoch 301/400\n",
            "8/8 [==============================] - 0s 16ms/step - loss: 0.0089 - val_loss: 0.0044\n",
            "Epoch 302/400\n",
            "8/8 [==============================] - 0s 22ms/step - loss: 0.0091 - val_loss: 0.0041\n",
            "Epoch 303/400\n",
            "8/8 [==============================] - 0s 14ms/step - loss: 0.0087 - val_loss: 0.0035\n",
            "Epoch 304/400\n",
            "8/8 [==============================] - 0s 13ms/step - loss: 0.0085 - val_loss: 0.0029\n",
            "Epoch 305/400\n",
            "8/8 [==============================] - 0s 15ms/step - loss: 0.0084 - val_loss: 0.0042\n",
            "Epoch 306/400\n",
            "8/8 [==============================] - 0s 17ms/step - loss: 0.0084 - val_loss: 0.0036\n",
            "Epoch 307/400\n",
            "8/8 [==============================] - 0s 22ms/step - loss: 0.0085 - val_loss: 0.0034\n",
            "Epoch 308/400\n",
            "8/8 [==============================] - 0s 15ms/step - loss: 0.0091 - val_loss: 0.0050\n",
            "Epoch 309/400\n",
            "8/8 [==============================] - 0s 20ms/step - loss: 0.0085 - val_loss: 0.0041\n",
            "Epoch 310/400\n",
            "8/8 [==============================] - 0s 20ms/step - loss: 0.0087 - val_loss: 0.0051\n",
            "Epoch 311/400\n",
            "8/8 [==============================] - 0s 17ms/step - loss: 0.0086 - val_loss: 0.0039\n",
            "Epoch 312/400\n",
            "8/8 [==============================] - 0s 20ms/step - loss: 0.0077 - val_loss: 0.0030\n",
            "Epoch 313/400\n",
            "8/8 [==============================] - 0s 21ms/step - loss: 0.0083 - val_loss: 0.0040\n",
            "Epoch 314/400\n",
            "8/8 [==============================] - 0s 21ms/step - loss: 0.0088 - val_loss: 0.0049\n",
            "Epoch 315/400\n",
            "8/8 [==============================] - 0s 28ms/step - loss: 0.0081 - val_loss: 0.0044\n",
            "Epoch 316/400\n",
            "8/8 [==============================] - 0s 23ms/step - loss: 0.0093 - val_loss: 0.0029\n",
            "Epoch 317/400\n",
            "8/8 [==============================] - 0s 27ms/step - loss: 0.0083 - val_loss: 0.0035\n",
            "Epoch 318/400\n",
            "8/8 [==============================] - 0s 21ms/step - loss: 0.0081 - val_loss: 0.0052\n",
            "Epoch 319/400\n",
            "8/8 [==============================] - 0s 25ms/step - loss: 0.0081 - val_loss: 0.0033\n",
            "Epoch 320/400\n",
            "8/8 [==============================] - 0s 24ms/step - loss: 0.0090 - val_loss: 0.0037\n",
            "Epoch 321/400\n",
            "8/8 [==============================] - 0s 17ms/step - loss: 0.0087 - val_loss: 0.0039\n",
            "Epoch 322/400\n",
            "8/8 [==============================] - 0s 26ms/step - loss: 0.0080 - val_loss: 0.0040\n",
            "Epoch 323/400\n",
            "8/8 [==============================] - 0s 24ms/step - loss: 0.0083 - val_loss: 0.0046\n",
            "Epoch 324/400\n",
            "8/8 [==============================] - 0s 21ms/step - loss: 0.0084 - val_loss: 0.0036\n",
            "Epoch 325/400\n",
            "8/8 [==============================] - 0s 21ms/step - loss: 0.0084 - val_loss: 0.0037\n",
            "Epoch 326/400\n",
            "8/8 [==============================] - 0s 19ms/step - loss: 0.0079 - val_loss: 0.0041\n",
            "Epoch 327/400\n",
            "8/8 [==============================] - 0s 28ms/step - loss: 0.0085 - val_loss: 0.0034\n",
            "Epoch 328/400\n",
            "8/8 [==============================] - 0s 17ms/step - loss: 0.0087 - val_loss: 0.0044\n",
            "Epoch 329/400\n",
            "8/8 [==============================] - 0s 16ms/step - loss: 0.0084 - val_loss: 0.0037\n",
            "Epoch 330/400\n",
            "8/8 [==============================] - 0s 28ms/step - loss: 0.0092 - val_loss: 0.0029\n",
            "Epoch 331/400\n",
            "8/8 [==============================] - 0s 23ms/step - loss: 0.0085 - val_loss: 0.0038\n",
            "Epoch 332/400\n",
            "8/8 [==============================] - 0s 16ms/step - loss: 0.0084 - val_loss: 0.0046\n",
            "Epoch 333/400\n",
            "8/8 [==============================] - 0s 9ms/step - loss: 0.0084 - val_loss: 0.0038\n",
            "Epoch 334/400\n",
            "8/8 [==============================] - 0s 13ms/step - loss: 0.0087 - val_loss: 0.0035\n",
            "Epoch 335/400\n",
            "8/8 [==============================] - 0s 11ms/step - loss: 0.0079 - val_loss: 0.0033\n",
            "Epoch 336/400\n",
            "8/8 [==============================] - 0s 13ms/step - loss: 0.0089 - val_loss: 0.0035\n",
            "Epoch 337/400\n",
            "8/8 [==============================] - 0s 9ms/step - loss: 0.0083 - val_loss: 0.0036\n",
            "Epoch 338/400\n",
            "8/8 [==============================] - 0s 12ms/step - loss: 0.0081 - val_loss: 0.0036\n",
            "Epoch 339/400\n",
            "8/8 [==============================] - 0s 9ms/step - loss: 0.0087 - val_loss: 0.0036\n",
            "Epoch 340/400\n",
            "8/8 [==============================] - 0s 9ms/step - loss: 0.0089 - val_loss: 0.0033\n",
            "Epoch 341/400\n",
            "8/8 [==============================] - 0s 11ms/step - loss: 0.0088 - val_loss: 0.0037\n",
            "Epoch 342/400\n",
            "8/8 [==============================] - 0s 9ms/step - loss: 0.0084 - val_loss: 0.0041\n",
            "Epoch 343/400\n",
            "8/8 [==============================] - 0s 10ms/step - loss: 0.0084 - val_loss: 0.0036\n",
            "Epoch 344/400\n",
            "8/8 [==============================] - 0s 10ms/step - loss: 0.0085 - val_loss: 0.0033\n",
            "Epoch 345/400\n",
            "8/8 [==============================] - 0s 10ms/step - loss: 0.0080 - val_loss: 0.0031\n",
            "Epoch 346/400\n",
            "8/8 [==============================] - 0s 9ms/step - loss: 0.0088 - val_loss: 0.0028\n",
            "Epoch 347/400\n",
            "8/8 [==============================] - 0s 11ms/step - loss: 0.0084 - val_loss: 0.0042\n",
            "Epoch 348/400\n",
            "8/8 [==============================] - 0s 11ms/step - loss: 0.0081 - val_loss: 0.0038\n",
            "Epoch 349/400\n",
            "8/8 [==============================] - 0s 9ms/step - loss: 0.0084 - val_loss: 0.0035\n",
            "Epoch 350/400\n",
            "8/8 [==============================] - 0s 13ms/step - loss: 0.0081 - val_loss: 0.0041\n",
            "Epoch 351/400\n",
            "8/8 [==============================] - 0s 10ms/step - loss: 0.0082 - val_loss: 0.0040\n",
            "Epoch 352/400\n",
            "8/8 [==============================] - 0s 10ms/step - loss: 0.0075 - val_loss: 0.0037\n",
            "Epoch 353/400\n",
            "8/8 [==============================] - 0s 11ms/step - loss: 0.0079 - val_loss: 0.0042\n",
            "Epoch 354/400\n",
            "8/8 [==============================] - 0s 10ms/step - loss: 0.0090 - val_loss: 0.0033\n",
            "Epoch 355/400\n",
            "8/8 [==============================] - 0s 11ms/step - loss: 0.0081 - val_loss: 0.0033\n",
            "Epoch 356/400\n",
            "8/8 [==============================] - 0s 10ms/step - loss: 0.0082 - val_loss: 0.0039\n",
            "Epoch 357/400\n",
            "8/8 [==============================] - 0s 10ms/step - loss: 0.0090 - val_loss: 0.0035\n",
            "Epoch 358/400\n",
            "8/8 [==============================] - 0s 9ms/step - loss: 0.0083 - val_loss: 0.0037\n",
            "Epoch 359/400\n",
            "8/8 [==============================] - 0s 9ms/step - loss: 0.0085 - val_loss: 0.0035\n",
            "Epoch 360/400\n",
            "8/8 [==============================] - 0s 11ms/step - loss: 0.0081 - val_loss: 0.0042\n",
            "Epoch 361/400\n",
            "8/8 [==============================] - 0s 9ms/step - loss: 0.0081 - val_loss: 0.0038\n",
            "Epoch 362/400\n",
            "8/8 [==============================] - 0s 10ms/step - loss: 0.0077 - val_loss: 0.0030\n",
            "Epoch 363/400\n",
            "8/8 [==============================] - 0s 9ms/step - loss: 0.0078 - val_loss: 0.0037\n",
            "Epoch 364/400\n",
            "8/8 [==============================] - 0s 10ms/step - loss: 0.0085 - val_loss: 0.0042\n",
            "Epoch 365/400\n",
            "8/8 [==============================] - 0s 12ms/step - loss: 0.0086 - val_loss: 0.0039\n",
            "Epoch 366/400\n",
            "8/8 [==============================] - 0s 10ms/step - loss: 0.0088 - val_loss: 0.0039\n",
            "Epoch 367/400\n",
            "8/8 [==============================] - 0s 12ms/step - loss: 0.0079 - val_loss: 0.0040\n",
            "Epoch 368/400\n",
            "8/8 [==============================] - 0s 10ms/step - loss: 0.0080 - val_loss: 0.0034\n",
            "Epoch 369/400\n",
            "8/8 [==============================] - 0s 9ms/step - loss: 0.0085 - val_loss: 0.0039\n",
            "Epoch 370/400\n",
            "8/8 [==============================] - 0s 11ms/step - loss: 0.0081 - val_loss: 0.0041\n",
            "Epoch 371/400\n",
            "8/8 [==============================] - 0s 9ms/step - loss: 0.0091 - val_loss: 0.0033\n",
            "Epoch 372/400\n",
            "8/8 [==============================] - 0s 10ms/step - loss: 0.0084 - val_loss: 0.0032\n",
            "Epoch 373/400\n",
            "8/8 [==============================] - 0s 13ms/step - loss: 0.0088 - val_loss: 0.0049\n",
            "Epoch 374/400\n",
            "8/8 [==============================] - 0s 9ms/step - loss: 0.0081 - val_loss: 0.0036\n",
            "Epoch 375/400\n",
            "8/8 [==============================] - 0s 10ms/step - loss: 0.0076 - val_loss: 0.0030\n",
            "Epoch 376/400\n",
            "8/8 [==============================] - 0s 10ms/step - loss: 0.0083 - val_loss: 0.0030\n",
            "Epoch 377/400\n",
            "8/8 [==============================] - 0s 10ms/step - loss: 0.0076 - val_loss: 0.0034\n",
            "Epoch 378/400\n",
            "8/8 [==============================] - 0s 13ms/step - loss: 0.0084 - val_loss: 0.0039\n",
            "Epoch 379/400\n",
            "8/8 [==============================] - 0s 12ms/step - loss: 0.0081 - val_loss: 0.0034\n",
            "Epoch 380/400\n",
            "8/8 [==============================] - 0s 10ms/step - loss: 0.0084 - val_loss: 0.0026\n",
            "Epoch 381/400\n",
            "8/8 [==============================] - 0s 11ms/step - loss: 0.0087 - val_loss: 0.0039\n",
            "Epoch 382/400\n",
            "8/8 [==============================] - 0s 9ms/step - loss: 0.0092 - val_loss: 0.0036\n",
            "Epoch 383/400\n",
            "8/8 [==============================] - 0s 12ms/step - loss: 0.0085 - val_loss: 0.0035\n",
            "Epoch 384/400\n",
            "8/8 [==============================] - 0s 10ms/step - loss: 0.0081 - val_loss: 0.0032\n",
            "Epoch 385/400\n",
            "8/8 [==============================] - 0s 10ms/step - loss: 0.0073 - val_loss: 0.0036\n",
            "Epoch 386/400\n",
            "8/8 [==============================] - 0s 11ms/step - loss: 0.0080 - val_loss: 0.0033\n",
            "Epoch 387/400\n",
            "8/8 [==============================] - 0s 10ms/step - loss: 0.0090 - val_loss: 0.0035\n",
            "Epoch 388/400\n",
            "8/8 [==============================] - 0s 13ms/step - loss: 0.0085 - val_loss: 0.0025\n",
            "Epoch 389/400\n",
            "8/8 [==============================] - 0s 10ms/step - loss: 0.0088 - val_loss: 0.0038\n",
            "Epoch 390/400\n",
            "8/8 [==============================] - 0s 10ms/step - loss: 0.0085 - val_loss: 0.0041\n",
            "Epoch 391/400\n",
            "8/8 [==============================] - 0s 11ms/step - loss: 0.0079 - val_loss: 0.0032\n",
            "Epoch 392/400\n",
            "8/8 [==============================] - 0s 10ms/step - loss: 0.0084 - val_loss: 0.0029\n",
            "Epoch 393/400\n",
            "8/8 [==============================] - 0s 10ms/step - loss: 0.0084 - val_loss: 0.0037\n",
            "Epoch 394/400\n",
            "8/8 [==============================] - 0s 10ms/step - loss: 0.0085 - val_loss: 0.0038\n",
            "Epoch 395/400\n",
            "8/8 [==============================] - 0s 10ms/step - loss: 0.0083 - val_loss: 0.0028\n",
            "Epoch 396/400\n",
            "8/8 [==============================] - 0s 13ms/step - loss: 0.0079 - val_loss: 0.0034\n",
            "Epoch 397/400\n",
            "8/8 [==============================] - 0s 12ms/step - loss: 0.0083 - val_loss: 0.0031\n",
            "Epoch 398/400\n",
            "8/8 [==============================] - 0s 10ms/step - loss: 0.0079 - val_loss: 0.0030\n",
            "Epoch 399/400\n",
            "8/8 [==============================] - 0s 9ms/step - loss: 0.0091 - val_loss: 0.0035\n",
            "Epoch 400/400\n",
            "8/8 [==============================] - 0s 10ms/step - loss: 0.0084 - val_loss: 0.0039\n"
          ]
        }
      ]
    },
    {
      "cell_type": "markdown",
      "metadata": {
        "id": "Tpy3_o1V-sRc"
      },
      "source": [
        "Check learning rate"
      ]
    },
    {
      "cell_type": "code",
      "metadata": {
        "id": "qIaOxrXGe_Yx",
        "colab": {
          "base_uri": "https://localhost:8080/"
        },
        "outputId": "4ae13ad7-523d-40eb-eb96-b6babb0e0f59"
      },
      "source": [
        "print(model.optimizer.lr)"
      ],
      "execution_count": null,
      "outputs": [
        {
          "output_type": "stream",
          "name": "stdout",
          "text": [
            "<tf.Variable 'Adam/learning_rate:0' shape=() dtype=float32, numpy=0.0002>\n"
          ]
        }
      ]
    },
    {
      "cell_type": "markdown",
      "metadata": {
        "id": "UJVVot3S-wbB"
      },
      "source": [
        "Plot model training loss and validation loss over each epoch"
      ]
    },
    {
      "cell_type": "code",
      "metadata": {
        "colab": {
          "base_uri": "https://localhost:8080/",
          "height": 573
        },
        "id": "Bp-l2jA_d_Db",
        "outputId": "2decbcb1-2077-4b67-d3e0-bf0855e53ced"
      },
      "source": [
        "train_loss = history.history['loss']\n",
        "validation_loss = history.history['val_loss']\n",
        "xc = range(400)\n",
        "plt.figure()\n",
        "plt.plot(xc, train_loss, label=\"Training Loss\")\n",
        "plt.plot(xc, validation_loss, label=\"Validation Loss\")\n",
        "plt.title(\"Model Training\")\n",
        "plt.xlabel(\"Number of Epochs\")\n",
        "plt.ylabel(\"Loss\")\n",
        "plt.legend()\n",
        "plt.show()\n",
        "plt.axis([50,400,0,0.02])\n",
        "plt.plot(xc, train_loss, label=\"Training Loss\")\n",
        "plt.plot(xc, validation_loss, label=\"Validation Loss\")\n",
        "plt.title(\"Model Training\")\n",
        "plt.xlabel(\"Number of Epochs\")\n",
        "plt.ylabel(\"Loss\")\n",
        "plt.legend()\n",
        "plt.show()"
      ],
      "execution_count": null,
      "outputs": [
        {
          "output_type": "display_data",
          "data": {
            "image/png": "[encoded data removed]",
            "text/plain": [
              "<Figure size 432x288 with 1 Axes>"
            ]
          },
          "metadata": {
            "needs_background": "light"
          }
        },
        {
          "output_type": "display_data",
          "data": {
            "image/png": "[encoded data removed]",
            "text/plain": [
              "<Figure size 432x288 with 1 Axes>"
            ]
          },
          "metadata": {
            "needs_background": "light"
          }
        }
      ]
    },
    {
      "cell_type": "code",
      "metadata": {
        "id": "bQLcstuJ_S3E",
        "colab": {
          "base_uri": "https://localhost:8080/"
        },
        "outputId": "89e66250-37b8-4bcf-84e2-6fbbc417319e"
      },
      "source": [
        "model.summary()"
      ],
      "execution_count": null,
      "outputs": [
        {
          "output_type": "stream",
          "name": "stdout",
          "text": [
            "Model: \"sequential_6\"\n",
            "_________________________________________________________________\n",
            " Layer (type)                Output Shape              Param #   \n",
            "=================================================================\n",
            " lstm_12 (LSTM)              (None, 3, 42)             7560      \n",
            "                                                                 \n",
            " lstm_13 (LSTM)              (None, 42)                14280     \n",
            "                                                                 \n",
            " dropout_6 (Dropout)         (None, 42)                0         \n",
            "                                                                 \n",
            " dense_6 (Dense)             (None, 1)                 43        \n",
            "                                                                 \n",
            "=================================================================\n",
            "Total params: 21,883\n",
            "Trainable params: 21,883\n",
            "Non-trainable params: 0\n",
            "_________________________________________________________________\n"
          ]
        }
      ]
    },
    {
      "cell_type": "markdown",
      "metadata": {
        "id": "-Y4K1uzV33FR"
      },
      "source": [
        "Make predictions on Xtest dataset"
      ]
    },
    {
      "cell_type": "code",
      "metadata": {
        "id": "WU4dXIHL_S3E"
      },
      "source": [
        "testPredict = model.predict(Xtest)"
      ],
      "execution_count": null,
      "outputs": []
    },
    {
      "cell_type": "markdown",
      "metadata": {
        "id": "nIBbMpZs4Qh6"
      },
      "source": [
        "Concatenate with a zero array so the array has 2 elements to enable to run the inverse scaler"
      ]
    },
    {
      "cell_type": "code",
      "metadata": {
        "id": "VZVi-Nnr_S3E"
      },
      "source": [
        "testPredict = np.c_[testPredict, np.zeros(testPredict.shape)]"
      ],
      "execution_count": null,
      "outputs": []
    },
    {
      "cell_type": "markdown",
      "metadata": {
        "id": "gEgag9bI_Daw"
      },
      "source": [
        "Inverse transfrom predictions from being scaled"
      ]
    },
    {
      "cell_type": "code",
      "metadata": {
        "id": "FjnpPkVy_S3F"
      },
      "source": [
        "testPredict = scaler.inverse_transform(testPredict)\n",
        "testPredict = [x[0] for x in testPredict]"
      ],
      "execution_count": null,
      "outputs": []
    },
    {
      "cell_type": "markdown",
      "metadata": {
        "id": "ZRqqMznh4sUQ"
      },
      "source": [
        "View predictions made for the train dataset and test dataset"
      ]
    },
    {
      "cell_type": "code",
      "metadata": {
        "id": "U8HXckoH_S3F",
        "colab": {
          "base_uri": "https://localhost:8080/"
        },
        "outputId": "44eaaf31-d5d2-440a-f85f-a6b09d2d8b0b"
      },
      "source": [
        "print(testPredict)"
      ],
      "execution_count": null,
      "outputs": [
        {
          "output_type": "stream",
          "name": "stdout",
          "text": [
            "[1727.5952370710004, 1718.7409638986196, 1710.2563295054674, 1670.5518870347273, 1678.611746486081, 1668.4516522208548, 1708.5907077933384, 1715.5827022218837, 1718.236138892808, 1694.4424782876695, 1686.7226723575807, 1723.5190538379563, 1717.006581234069, 1737.6141289686705, 1754.1511203314913, 1800.6108751670636, 1816.3797822728825, 1816.901594029678, 1835.631362610171, 1836.4199725246121, 1834.4840137483825, 1847.270295104829, 1842.8937294918812, 1851.7475779954875, 1849.1722449900258, 1817.9188173011148, 1797.2120386295142, 1797.133014848373, 1795.4796377525784, 1812.02168975163, 1768.6831796312738, 1762.858847387569, 1773.7573698737037, 1805.36656382854]\n"
          ]
        }
      ]
    },
    {
      "cell_type": "code",
      "source": [
        "print(df.Close[148:])"
      ],
      "metadata": {
        "colab": {
          "base_uri": "https://localhost:8080/"
        },
        "id": "4eaCBdy-o6W6",
        "outputId": "3975830c-71ca-45ff-9cc9-c89b810b6a34"
      },
      "execution_count": null,
      "outputs": [
        {
          "output_type": "stream",
          "name": "stdout",
          "text": [
            "Date\n",
            "12/05/2009    1715.920044\n",
            "13/05/2009    1664.189941\n",
            "14/05/2009    1689.209961\n",
            "15/05/2009    1680.140015\n",
            "18/05/2009    1732.359985\n",
            "19/05/2009    1734.540039\n",
            "20/05/2009    1727.839966\n",
            "21/05/2009    1695.250000\n",
            "22/05/2009    1692.010010\n",
            "26/05/2009    1750.430054\n",
            "27/05/2009    1731.079956\n",
            "28/05/2009    1751.790039\n",
            "29/05/2009    1774.329956\n",
            "01/06/2009    1828.680054\n",
            "02/06/2009    1836.800049\n",
            "03/06/2009    1825.920044\n",
            "04/06/2009    1850.020020\n",
            "05/06/2009    1849.420044\n",
            "08/06/2009    1842.400024\n",
            "09/06/2009    1860.130005\n",
            "10/06/2009    1853.079956\n",
            "11/06/2009    1862.369995\n",
            "12/06/2009    1858.800049\n",
            "15/06/2009    1816.380005\n",
            "16/06/2009    1796.180054\n",
            "17/06/2009    1808.060059\n",
            "18/06/2009    1807.719971\n",
            "19/06/2009    1827.469971\n",
            "22/06/2009    1766.189941\n",
            "23/06/2009    1764.920044\n",
            "24/06/2009    1792.339966\n",
            "25/06/2009    1829.540039\n",
            "26/06/2009    1838.219971\n",
            "Name: Close, dtype: float64\n"
          ]
        }
      ]
    },
    {
      "cell_type": "code",
      "metadata": {
        "colab": {
          "base_uri": "https://localhost:8080/",
          "height": 295
        },
        "id": "MCfsFuY25pSE",
        "outputId": "396b127a-b0c9-420b-ceb7-51b4fd344c20"
      },
      "source": [
        "#plot the test predictions\n",
        "plt.plot(df.Close[148:], color=\"black\", label=f\"Actual Price\")\n",
        "plt.plot(testPredict[:-1], color=\"green\", label=\"Predicted Price\")\n",
        "plt.title(\"Stock Price\")\n",
        "plt.xlabel(\"Time\")\n",
        "plt.ylabel(\"Stock Price\")\n",
        "plt.legend()\n",
        "plt.show()"
      ],
      "execution_count": null,
      "outputs": [
        {
          "output_type": "display_data",
          "data": {
            "image/png": "[encoded data removed]",
            "text/plain": [
              "<Figure size 432x288 with 1 Axes>"
            ]
          },
          "metadata": {
            "needs_background": "light"
          }
        }
      ]
    },
    {
      "cell_type": "markdown",
      "metadata": {
        "id": "xpk_SyT0_vdT"
      },
      "source": [
        "Calculate mean squared error, mean absolute error and percentage mean absolute error for test"
      ]
    },
    {
      "cell_type": "code",
      "metadata": {
        "id": "e8rsBrGX_S3F",
        "colab": {
          "base_uri": "https://localhost:8080/"
        },
        "outputId": "bc8b2c2d-921b-4bf0-f0dd-10bd8af9ca84"
      },
      "source": [
        "MSE = mean_squared_error(df.Close[148:], testPredict[:-1])\n",
        "MAE = mean_absolute_error(df.Close[148:], testPredict[:-1])\n",
        "average_test_price = np.mean(df.Close[148:])\n",
        "percentage_MAE = MAD/average_test_price*100\n",
        "print(\"Mean Squared Error: %.2f \" % (MSE))\n",
        "print(\"Mean Absolute Error: %.2f \" % (MAE))\n",
        "print(\"Percentage Mean Absolute Error: %.2f%% \" % (percentage_MAE))"
      ],
      "execution_count": null,
      "outputs": [
        {
          "output_type": "stream",
          "name": "stdout",
          "text": [
            "Mean Squared Error: 1768.97 \n",
            "Mean Absolute Error: 35.88 \n",
            "Percentage Mean Absolute Error: 2.01% \n"
          ]
        }
      ]
    }
  ]
}