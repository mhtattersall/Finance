{
  "nbformat": 4,
  "nbformat_minor": 0,
  "metadata": {
    "colab": {
      "provenance": [],
      "authorship_tag": "ABX9TyMXKCR3l9NOCB8fswDm9aLv",
      "include_colab_link": true
    },
    "kernelspec": {
      "name": "python3",
      "display_name": "Python 3"
    },
    "language_info": {
      "name": "python"
    }
  },
  "cells": [
    {
      "cell_type": "markdown",
      "metadata": {
        "id": "view-in-github",
        "colab_type": "text"
      },
      "source": [
        "<a href=\"https://colab.research.google.com/github/mhtattersall/mhtattersall/blob/main/FinanceKPIs.ipynb\" target=\"_parent\"><img src=\"https://colab.research.google.com/assets/colab-badge.svg\" alt=\"Open In Colab\"/></a>"
      ]
    },
    {
      "cell_type": "code",
      "source": [
        "# Import necesary libraries\n",
        "import yfinance as yf\n",
        "import pandas as pd\n",
        "import numpy as np"
      ],
      "metadata": {
        "id": "-GL-BoYQokR1"
      },
      "execution_count": 1,
      "outputs": []
    },
    {
      "cell_type": "code",
      "source": [
        "# Download historical data for required stocks\n",
        "tickers = [\"AMZN\",\"GOOG\",\"MSFT\"] #list of tickers\n",
        "ohlcv_data = {} #new dictionary\n",
        "\n",
        "# looping over tickers and storing OHLCV dataframe in dictionary\n",
        "for ticker in tickers:\n",
        "    temp = yf.download(ticker,period='7mo',interval='1d')\n",
        "    temp.dropna(how=\"any\",inplace=True)\n",
        "    ohlcv_data[ticker] = temp"
      ],
      "metadata": {
        "colab": {
          "base_uri": "https://localhost:8080/"
        },
        "id": "nprO7yhTokP2",
        "outputId": "42ece9eb-1c6a-43f3-f62b-3a7a32c08380"
      },
      "execution_count": 2,
      "outputs": [
        {
          "output_type": "stream",
          "name": "stdout",
          "text": [
            "[*********************100%%**********************]  1 of 1 completed\n",
            "[*********************100%%**********************]  1 of 1 completed\n",
            "[*********************100%%**********************]  1 of 1 completed\n"
          ]
        }
      ]
    },
    {
      "cell_type": "code",
      "source": [
        "print(ohlcv_data[\"AMZN\"]) #print df for a stock"
      ],
      "metadata": {
        "colab": {
          "base_uri": "https://localhost:8080/"
        },
        "id": "L8Xe-9rJokNR",
        "outputId": "2c0ae3bf-a4c8-4a1e-85fb-dec82f1249f2"
      },
      "execution_count": 3,
      "outputs": [
        {
          "output_type": "stream",
          "name": "stdout",
          "text": [
            "                  Open        High         Low       Close   Adj Close  \\\n",
            "Date                                                                     \n",
            "2023-04-10  100.959999  102.199997   99.570000  102.169998  102.169998   \n",
            "2023-04-11  100.800003  101.000000   99.010002   99.919998   99.919998   \n",
            "2023-04-12  100.400002  100.510002   97.709999   97.830002   97.830002   \n",
            "2023-04-13   98.949997  102.570000   98.709999  102.400002  102.400002   \n",
            "2023-04-14  102.070000  103.199997  101.110001  102.510002  102.510002   \n",
            "...                ...         ...         ...         ...         ...   \n",
            "2023-11-03  138.990005  139.490005  137.449997  138.600006  138.600006   \n",
            "2023-11-06  138.759995  140.729996  138.360001  139.740005  139.740005   \n",
            "2023-11-07  140.550003  143.369995  140.500000  142.710007  142.710007   \n",
            "2023-11-08  142.970001  143.119995  141.220001  142.080002  142.080002   \n",
            "2023-11-09  142.020004  142.649994  139.839996  140.600006  140.600006   \n",
            "\n",
            "              Volume  \n",
            "Date                  \n",
            "2023-04-10  37261200  \n",
            "2023-04-11  60417800  \n",
            "2023-04-12  56735000  \n",
            "2023-04-13  67925100  \n",
            "2023-04-14  51450500  \n",
            "...              ...  \n",
            "2023-11-03  44007200  \n",
            "2023-11-06  44970400  \n",
            "2023-11-07  53553500  \n",
            "2023-11-08  44521700  \n",
            "2023-11-09  36168200  \n",
            "\n",
            "[150 rows x 6 columns]\n"
          ]
        }
      ]
    },
    {
      "cell_type": "code",
      "execution_count": 4,
      "metadata": {
        "colab": {
          "base_uri": "https://localhost:8080/"
        },
        "id": "qLsPrTRFoaj0",
        "outputId": "0e84eab3-f2ef-49e3-e3dc-5a9b0dfe5c33"
      },
      "outputs": [
        {
          "output_type": "stream",
          "name": "stdout",
          "text": [
            "CAGR of AMZN = 0.7098266529241155\n",
            "CAGR of GOOG = 0.4184858538553218\n",
            "CAGR of MSFT = 0.4582411386224692\n"
          ]
        }
      ],
      "source": [
        "def CAGR(DF):\n",
        "    \"function to calculate the Cumulative Annual Growth Rate of a trading strategy\"\n",
        "    df = DF.copy() #copy the df in the dictionary\n",
        "    df[\"return\"] = DF[\"Adj Close\"].pct_change() #new column with percentage change function of pandas applied to each day (or period)\n",
        "    df[\"cum_return\"] = (1 + df[\"return\"]).cumprod() #new column with 1+daily return, cumulative product return function of pandas to each daily return figure\n",
        "    n = len(df)/252 #length of the df divided by trading days in the year #if hourly data it would be 252/8hrs\n",
        "    CAGR = ((df[\"cum_return\"][-1])**(1/n) - 1) #CAGR formula #take the last row in the cum-return column\n",
        "    return CAGR\n",
        "\n",
        "for ticker in ohlcv_data:\n",
        "    print(\"CAGR of {} = {}\".format(ticker,CAGR(ohlcv_data[ticker]))) #apply function to each stock #these need to be *100 for percentages"
      ]
    },
    {
      "cell_type": "code",
      "source": [
        "def volatility(DF):\n",
        "    \"function to calculate annualized volatility of a trading strategy\"\n",
        "    df = DF.copy() #copy the df in the dictionary\n",
        "    df[\"daily_ret\"] = DF[\"Adj Close\"].pct_change() #new column with percentage change pandas function applied to each day (or period)\n",
        "    vol = df[\"daily_ret\"].std() * np.sqrt(252) #1+daily return, standard deviation function of pandas with daily returns, numpy square root function\n",
        "    return vol\n",
        "\n",
        "for ticker in ohlcv_data:\n",
        "    print(\"vol for {} = {}\".format(ticker,volatility(ohlcv_data[ticker]))) #apply function to each stock"
      ],
      "metadata": {
        "colab": {
          "base_uri": "https://localhost:8080/"
        },
        "id": "R3mBUGWoujoc",
        "outputId": "1597a108-f233-43bc-ec30-c5288860ab13"
      },
      "execution_count": 5,
      "outputs": [
        {
          "output_type": "stream",
          "name": "stdout",
          "text": [
            "vol for AMZN = 0.3321837474043249\n",
            "vol for GOOG = 0.28008134660601225\n",
            "vol for MSFT = 0.24372485517824746\n"
          ]
        }
      ]
    },
    {
      "cell_type": "code",
      "source": [
        "def sharpe(DF, rf): #pass df of the stock and a risk-free rate\n",
        "    \"function to calculate Sharpe Ratio of a trading strategy\"\n",
        "    df = DF.copy() #copy the df in the dictionary\n",
        "    return (CAGR(df) - rf)/volatility(df) #apply Sharpe Ratio formula"
      ],
      "metadata": {
        "id": "peDvHAixfGMI"
      },
      "execution_count": 6,
      "outputs": []
    },
    {
      "cell_type": "code",
      "source": [
        "def sortino(DF, rf):\n",
        "    \"function to calculate Sortino Ratio of a trading strategy\"\n",
        "    df = DF.copy() #copy the df in the dictionary\n",
        "    df[\"return\"] = df[\"Adj Close\"].pct_change() #new column with percentage change pandas function applied to each day (or period)\n",
        "    neg_return = np.where(df[\"return\"]>0,0,df[\"return\"]) #keep negative returns, else return them as 0. #returned as an array\n",
        "    #below you will see two ways to calculate the denominator (neg_vol), some people use the\n",
        "    #standard deviation of negative returns while others use a downward deviation approach,\n",
        "    #you can use either. However, downward deviation approach is more widely used\n",
        "    neg_vol = np.sqrt((pd.Series(neg_return[neg_return != 0]) ** 2).mean() * 252) #downward deviation #filter out zero values #convert to a pandas series #\n",
        "    #neg_vol = pd.Series(neg_return[neg_return != 0]).std() * np.sqrt(252) #standard deviation of negative returns\n",
        "    return (CAGR(df) - rf)/neg_vol #apply Sortino Ratio formula"
      ],
      "metadata": {
        "id": "pSlO5YS2fJD_"
      },
      "execution_count": 7,
      "outputs": []
    },
    {
      "cell_type": "code",
      "source": [
        "for ticker in ohlcv_data:\n",
        "    print(\"Sharpe of {} = {}\".format(ticker,sharpe(ohlcv_data[ticker],0.03))) #assume risk-free rate 3%\n",
        "    print(\"Sortino of {} = {}\".format(ticker,sortino(ohlcv_data[ticker],0.03))) #assume risk-free rate 3%"
      ],
      "metadata": {
        "colab": {
          "base_uri": "https://localhost:8080/"
        },
        "id": "Ab0iAaTIfLAs",
        "outputId": "32d97272-ff8b-4847-feb8-66cbaf45e4a1"
      },
      "execution_count": 8,
      "outputs": [
        {
          "output_type": "stream",
          "name": "stdout",
          "text": [
            "Sharpe of AMZN = 2.0465379725415924\n",
            "Sortino of AMZN = 2.134662961945856\n",
            "Sharpe of GOOG = 1.3870465083196029\n",
            "Sortino of GOOG = 1.3545444443012689\n",
            "Sharpe of MSFT = 1.757067978599377\n",
            "Sortino of MSFT = 1.8826096843902393\n"
          ]
        }
      ]
    },
    {
      "cell_type": "code",
      "source": [
        "def max_dd(DF):\n",
        "    \"function to calculate max drawdown\"\n",
        "    df = DF.copy() #copy the df in the dictionary\n",
        "    df[\"return\"] = df[\"Adj Close\"].pct_change() #new column with percentage change function of pandas applied to each day (or period)\n",
        "    df[\"cum_return\"] = (1+df[\"return\"]).cumprod() #new column with 1+daily return, cumulative product return function of pandas to each daily return figure\n",
        "    df[\"cum_roll_max\"] = df[\"cum_return\"].cummax() #new column with cumulative max function appled to cum-return\n",
        "    df[\"drawdown\"] = df[\"cum_roll_max\"] - df[\"cum_return\"] #new column with the cum_roll_max minus the cum_return at that point\n",
        "    return (df[\"drawdown\"]/df[\"cum_roll_max\"]).max() #return the maximum drawdown expressed as a ratio to the cum_roll_max"
      ],
      "metadata": {
        "id": "dO3FTNIEleZd"
      },
      "execution_count": 9,
      "outputs": []
    },
    {
      "cell_type": "code",
      "source": [
        "def calmar(DF):\n",
        "    \"function to calculate calmar ratio\"\n",
        "    df = DF.copy() #copy the df in the dictionary\n",
        "    return CAGR(df)/max_dd(df) #apply Calmar Ratio formula"
      ],
      "metadata": {
        "id": "BKmDG28-leD_"
      },
      "execution_count": 10,
      "outputs": []
    },
    {
      "cell_type": "code",
      "source": [
        "for ticker in ohlcv_data:\n",
        "    print(\"max drawdown of {} = {}\".format(ticker,max_dd(ohlcv_data[ticker])))\n",
        "    print(\"calmar ratio of {} = {}\".format(ticker,calmar(ohlcv_data[ticker])))"
      ],
      "metadata": {
        "colab": {
          "base_uri": "https://localhost:8080/"
        },
        "id": "w2-xrlRbld2e",
        "outputId": "349ee652-47f5-49e1-8fdc-31b197031639"
      },
      "execution_count": 11,
      "outputs": [
        {
          "output_type": "stream",
          "name": "stdout",
          "text": [
            "max drawdown of AMZN = 0.17452540796322294\n",
            "calmar ratio of AMZN = 4.067182315790343\n",
            "max drawdown of GOOG = 0.1291460537507817\n",
            "calmar ratio of GOOG = 3.240407598228984\n",
            "max drawdown of MSFT = 0.12987593237872266\n",
            "calmar ratio of MSFT = 3.5282991254008658\n"
          ]
        }
      ]
    }
  ]
}